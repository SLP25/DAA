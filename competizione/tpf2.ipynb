{
 "cells": [
  {
   "cell_type": "markdown",
   "metadata": {},
   "source": [
    "## Solar fucking panels"
   ]
  },
  {
   "cell_type": "code",
   "execution_count": 3,
   "metadata": {},
   "outputs": [],
   "source": [
    "import sklearn as skl\n",
    "import numpy as np\n",
    "import pandas as pd\n",
    "import matplotlib.pyplot as plt\n",
    "import seaborn as sns\n",
    "from sklearn import preprocessing\n",
    "import datetime\n",
    "RANDOM_SEED=25"
   ]
  },
  {
   "cell_type": "markdown",
   "metadata": {},
   "source": [
    "*Load the CSV*"
   ]
  },
  {
   "cell_type": "code",
   "execution_count": 4,
   "metadata": {},
   "outputs": [],
   "source": [
    "'''\n",
    "Load CSVs\n",
    "'''\n",
    "energy2021 = pd.read_csv('daasbstp2023/energia_202109-202112.csv',na_values=[''])\n",
    "energy2022 = pd.read_csv('daasbstp2023/energia_202201-202212.csv',na_values=[''])\n",
    "energy2023 = pd.read_csv('daasbstp2023/energia_202301-202304.csv',na_values=[''])\n",
    "\n",
    "metereologia2021 = pd.read_csv('daasbstp2023/meteo_202109-202112.csv',na_values=[''])\n",
    "metereologia2022 = pd.read_csv('daasbstp2023/meteo_202201-202212.csv',na_values=[''])\n",
    "metereologia2023 = pd.read_csv('daasbstp2023/meteo_202301-202304.csv',na_values=[''])\n",
    "\n"
   ]
  },
  {
   "cell_type": "code",
   "execution_count": 5,
   "metadata": {},
   "outputs": [],
   "source": [
    "energy = pd.concat([energy2021,energy2022])\n",
    "metereologia = pd.concat([metereologia2021,metereologia2022])"
   ]
  },
  {
   "cell_type": "code",
   "execution_count": 6,
   "metadata": {},
   "outputs": [
    {
     "name": "stdout",
     "output_type": "stream",
     "text": [
      "<class 'pandas.core.frame.DataFrame'>\n",
      "Int64Index: 11016 entries, 0 to 11015\n",
      "Data columns (total 26 columns):\n",
      " #   Column                   Non-Null Count  Dtype  \n",
      "---  ------                   --------------  -----  \n",
      " 0   Data                     11016 non-null  object \n",
      " 1   Hora                     11016 non-null  int64  \n",
      " 2   Normal (kWh)             11016 non-null  float64\n",
      " 3   Horário Económico (kWh)  11016 non-null  float64\n",
      " 4   Autoconsumo (kWh)        11016 non-null  float64\n",
      " 5   Injeção na rede (kWh)    11016 non-null  object \n",
      " 6   data_hora                11016 non-null  object \n",
      " 7   dt                       11016 non-null  int64  \n",
      " 8   dt_iso                   11016 non-null  object \n",
      " 9   city_name                11016 non-null  object \n",
      " 10  temp                     11016 non-null  float64\n",
      " 11  feels_like               11016 non-null  float64\n",
      " 12  temp_min                 11016 non-null  float64\n",
      " 13  temp_max                 11016 non-null  float64\n",
      " 14  pressure                 11016 non-null  int64  \n",
      " 15  sea_level                0 non-null      float64\n",
      " 16  grnd_level               0 non-null      float64\n",
      " 17  humidity                 11016 non-null  int64  \n",
      " 18  wind_speed               11016 non-null  float64\n",
      " 19  rain_1h                  2284 non-null   float64\n",
      " 20  clouds_all               11016 non-null  int64  \n",
      " 21  weather_description      11016 non-null  object \n",
      " 22  Year                     11016 non-null  int64  \n",
      " 23  Month                    11016 non-null  int64  \n",
      " 24  Day                      11016 non-null  int64  \n",
      " 25  Hour                     11016 non-null  int64  \n",
      "dtypes: float64(11), int64(9), object(6)\n",
      "memory usage: 2.3+ MB\n"
     ]
    }
   ],
   "source": [
    "def cleanExtraTimeData(x):\n",
    "    return x[:len(\"2022-01-01 00\")]\n",
    "\n",
    "metereologia['data_hora'] = metereologia['dt_iso'].apply(cleanExtraTimeData)\n",
    "metereologia2023['data_hora'] = metereologia2023['dt_iso'].apply(cleanExtraTimeData)\n",
    "\n",
    "energy['data_hora'] = energy['Data'] + \" \" + energy['Hora'].apply(lambda x: str(x) if x>9 else \"0\"+str(x))\n",
    "energy2023['data_hora'] = energy2023['Data'] + \" \" + energy2023['Hora'].apply(lambda x: str(x) if x>9 else \"0\"+str(x))\n",
    "\n",
    "df = pd.merge(energy, metereologia, on='data_hora', how='inner')\n",
    "\n",
    "def separateDate(x):\n",
    "    try:\n",
    "        b = datetime.datetime.strptime(x, \"%Y-%m-%d %H\")\n",
    "        return pd.Series({'Year': b.year, 'Month': b.month, 'Day': b.day, 'Hour': b.hour})\n",
    "    except ValueError:\n",
    "        # Handle the case where x is not a valid datetime string\n",
    "        return pd.Series({'Year': None, 'Month': None, 'Day': None, 'Hour': None})\n",
    "\n",
    "df = pd.concat([df,df['data_hora'].apply(separateDate)],axis=1)\n",
    "df.info()\n"
   ]
  },
  {
   "cell_type": "markdown",
   "metadata": {},
   "source": [
    "Many of the float64 to be converted to float32"
   ]
  },
  {
   "cell_type": "markdown",
   "metadata": {},
   "source": [
    "**1. Understand the data**\n",
    "\n",
    "* .columns\n",
    "* .head()\n",
    "* .tail()\n",
    "* .shape\n",
    "*.dtypes\n",
    "* .info()\n",
    "* .describe()\n",
    "* .isna()"
   ]
  },
  {
   "cell_type": "code",
   "execution_count": 7,
   "metadata": {},
   "outputs": [
    {
     "data": {
      "text/plain": [
       "Index(['Data', 'Hora', 'Normal (kWh)', 'Horário Económico (kWh)',\n",
       "       'Autoconsumo (kWh)', 'Injeção na rede (kWh)', 'data_hora', 'dt',\n",
       "       'dt_iso', 'city_name', 'temp', 'feels_like', 'temp_min', 'temp_max',\n",
       "       'pressure', 'sea_level', 'grnd_level', 'humidity', 'wind_speed',\n",
       "       'rain_1h', 'clouds_all', 'weather_description', 'Year', 'Month', 'Day',\n",
       "       'Hour'],\n",
       "      dtype='object')"
      ]
     },
     "metadata": {},
     "output_type": "display_data"
    }
   ],
   "source": [
    "'''\n",
    "Inspect data\n",
    "'''\n",
    "display(df.columns)"
   ]
  },
  {
   "cell_type": "code",
   "execution_count": 8,
   "metadata": {},
   "outputs": [
    {
     "data": {
      "text/html": [
       "<div>\n",
       "<style scoped>\n",
       "    .dataframe tbody tr th:only-of-type {\n",
       "        vertical-align: middle;\n",
       "    }\n",
       "\n",
       "    .dataframe tbody tr th {\n",
       "        vertical-align: top;\n",
       "    }\n",
       "\n",
       "    .dataframe thead th {\n",
       "        text-align: right;\n",
       "    }\n",
       "</style>\n",
       "<table border=\"1\" class=\"dataframe\">\n",
       "  <thead>\n",
       "    <tr style=\"text-align: right;\">\n",
       "      <th></th>\n",
       "      <th>Data</th>\n",
       "      <th>Hora</th>\n",
       "      <th>Normal (kWh)</th>\n",
       "      <th>Horário Económico (kWh)</th>\n",
       "      <th>Autoconsumo (kWh)</th>\n",
       "      <th>Injeção na rede (kWh)</th>\n",
       "      <th>data_hora</th>\n",
       "      <th>dt</th>\n",
       "      <th>dt_iso</th>\n",
       "      <th>city_name</th>\n",
       "      <th>...</th>\n",
       "      <th>grnd_level</th>\n",
       "      <th>humidity</th>\n",
       "      <th>wind_speed</th>\n",
       "      <th>rain_1h</th>\n",
       "      <th>clouds_all</th>\n",
       "      <th>weather_description</th>\n",
       "      <th>Year</th>\n",
       "      <th>Month</th>\n",
       "      <th>Day</th>\n",
       "      <th>Hour</th>\n",
       "    </tr>\n",
       "  </thead>\n",
       "  <tbody>\n",
       "    <tr>\n",
       "      <th>0</th>\n",
       "      <td>2021-09-29</td>\n",
       "      <td>0</td>\n",
       "      <td>0.0</td>\n",
       "      <td>0.0</td>\n",
       "      <td>0.0</td>\n",
       "      <td>None</td>\n",
       "      <td>2021-09-29 00</td>\n",
       "      <td>1632873600</td>\n",
       "      <td>2021-09-29 00:00:00 +0000 UTC</td>\n",
       "      <td>local</td>\n",
       "      <td>...</td>\n",
       "      <td>NaN</td>\n",
       "      <td>81</td>\n",
       "      <td>1.96</td>\n",
       "      <td>NaN</td>\n",
       "      <td>87</td>\n",
       "      <td>overcast clouds</td>\n",
       "      <td>2021</td>\n",
       "      <td>9</td>\n",
       "      <td>29</td>\n",
       "      <td>0</td>\n",
       "    </tr>\n",
       "    <tr>\n",
       "      <th>1</th>\n",
       "      <td>2021-09-29</td>\n",
       "      <td>1</td>\n",
       "      <td>0.0</td>\n",
       "      <td>0.0</td>\n",
       "      <td>0.0</td>\n",
       "      <td>None</td>\n",
       "      <td>2021-09-29 01</td>\n",
       "      <td>1632877200</td>\n",
       "      <td>2021-09-29 01:00:00 +0000 UTC</td>\n",
       "      <td>local</td>\n",
       "      <td>...</td>\n",
       "      <td>NaN</td>\n",
       "      <td>82</td>\n",
       "      <td>1.83</td>\n",
       "      <td>NaN</td>\n",
       "      <td>91</td>\n",
       "      <td>overcast clouds</td>\n",
       "      <td>2021</td>\n",
       "      <td>9</td>\n",
       "      <td>29</td>\n",
       "      <td>1</td>\n",
       "    </tr>\n",
       "    <tr>\n",
       "      <th>2</th>\n",
       "      <td>2021-09-29</td>\n",
       "      <td>2</td>\n",
       "      <td>0.0</td>\n",
       "      <td>0.0</td>\n",
       "      <td>0.0</td>\n",
       "      <td>None</td>\n",
       "      <td>2021-09-29 02</td>\n",
       "      <td>1632880800</td>\n",
       "      <td>2021-09-29 02:00:00 +0000 UTC</td>\n",
       "      <td>local</td>\n",
       "      <td>...</td>\n",
       "      <td>NaN</td>\n",
       "      <td>84</td>\n",
       "      <td>1.96</td>\n",
       "      <td>NaN</td>\n",
       "      <td>93</td>\n",
       "      <td>overcast clouds</td>\n",
       "      <td>2021</td>\n",
       "      <td>9</td>\n",
       "      <td>29</td>\n",
       "      <td>2</td>\n",
       "    </tr>\n",
       "    <tr>\n",
       "      <th>3</th>\n",
       "      <td>2021-09-29</td>\n",
       "      <td>3</td>\n",
       "      <td>0.0</td>\n",
       "      <td>0.0</td>\n",
       "      <td>0.0</td>\n",
       "      <td>None</td>\n",
       "      <td>2021-09-29 03</td>\n",
       "      <td>1632884400</td>\n",
       "      <td>2021-09-29 03:00:00 +0000 UTC</td>\n",
       "      <td>local</td>\n",
       "      <td>...</td>\n",
       "      <td>NaN</td>\n",
       "      <td>85</td>\n",
       "      <td>1.85</td>\n",
       "      <td>NaN</td>\n",
       "      <td>95</td>\n",
       "      <td>overcast clouds</td>\n",
       "      <td>2021</td>\n",
       "      <td>9</td>\n",
       "      <td>29</td>\n",
       "      <td>3</td>\n",
       "    </tr>\n",
       "    <tr>\n",
       "      <th>4</th>\n",
       "      <td>2021-09-29</td>\n",
       "      <td>4</td>\n",
       "      <td>0.0</td>\n",
       "      <td>0.0</td>\n",
       "      <td>0.0</td>\n",
       "      <td>None</td>\n",
       "      <td>2021-09-29 04</td>\n",
       "      <td>1632888000</td>\n",
       "      <td>2021-09-29 04:00:00 +0000 UTC</td>\n",
       "      <td>local</td>\n",
       "      <td>...</td>\n",
       "      <td>NaN</td>\n",
       "      <td>86</td>\n",
       "      <td>1.83</td>\n",
       "      <td>NaN</td>\n",
       "      <td>93</td>\n",
       "      <td>overcast clouds</td>\n",
       "      <td>2021</td>\n",
       "      <td>9</td>\n",
       "      <td>29</td>\n",
       "      <td>4</td>\n",
       "    </tr>\n",
       "  </tbody>\n",
       "</table>\n",
       "<p>5 rows × 26 columns</p>\n",
       "</div>"
      ],
      "text/plain": [
       "         Data  Hora  Normal (kWh)  Horário Económico (kWh)  Autoconsumo (kWh)  \\\n",
       "0  2021-09-29     0           0.0                      0.0                0.0   \n",
       "1  2021-09-29     1           0.0                      0.0                0.0   \n",
       "2  2021-09-29     2           0.0                      0.0                0.0   \n",
       "3  2021-09-29     3           0.0                      0.0                0.0   \n",
       "4  2021-09-29     4           0.0                      0.0                0.0   \n",
       "\n",
       "  Injeção na rede (kWh)      data_hora          dt  \\\n",
       "0                  None  2021-09-29 00  1632873600   \n",
       "1                  None  2021-09-29 01  1632877200   \n",
       "2                  None  2021-09-29 02  1632880800   \n",
       "3                  None  2021-09-29 03  1632884400   \n",
       "4                  None  2021-09-29 04  1632888000   \n",
       "\n",
       "                          dt_iso city_name  ...  grnd_level  humidity  \\\n",
       "0  2021-09-29 00:00:00 +0000 UTC     local  ...         NaN        81   \n",
       "1  2021-09-29 01:00:00 +0000 UTC     local  ...         NaN        82   \n",
       "2  2021-09-29 02:00:00 +0000 UTC     local  ...         NaN        84   \n",
       "3  2021-09-29 03:00:00 +0000 UTC     local  ...         NaN        85   \n",
       "4  2021-09-29 04:00:00 +0000 UTC     local  ...         NaN        86   \n",
       "\n",
       "   wind_speed  rain_1h  clouds_all  weather_description  Year  Month  Day  \\\n",
       "0        1.96      NaN          87      overcast clouds  2021      9   29   \n",
       "1        1.83      NaN          91      overcast clouds  2021      9   29   \n",
       "2        1.96      NaN          93      overcast clouds  2021      9   29   \n",
       "3        1.85      NaN          95      overcast clouds  2021      9   29   \n",
       "4        1.83      NaN          93      overcast clouds  2021      9   29   \n",
       "\n",
       "   Hour  \n",
       "0     0  \n",
       "1     1  \n",
       "2     2  \n",
       "3     3  \n",
       "4     4  \n",
       "\n",
       "[5 rows x 26 columns]"
      ]
     },
     "metadata": {},
     "output_type": "display_data"
    }
   ],
   "source": [
    "display(df.head())"
   ]
  },
  {
   "cell_type": "code",
   "execution_count": 9,
   "metadata": {
    "notebookRunGroups": {
     "groupValue": "1"
    }
   },
   "outputs": [
    {
     "data": {
      "text/html": [
       "<div>\n",
       "<style scoped>\n",
       "    .dataframe tbody tr th:only-of-type {\n",
       "        vertical-align: middle;\n",
       "    }\n",
       "\n",
       "    .dataframe tbody tr th {\n",
       "        vertical-align: top;\n",
       "    }\n",
       "\n",
       "    .dataframe thead th {\n",
       "        text-align: right;\n",
       "    }\n",
       "</style>\n",
       "<table border=\"1\" class=\"dataframe\">\n",
       "  <thead>\n",
       "    <tr style=\"text-align: right;\">\n",
       "      <th></th>\n",
       "      <th>Data</th>\n",
       "      <th>Hora</th>\n",
       "      <th>Normal (kWh)</th>\n",
       "      <th>Horário Económico (kWh)</th>\n",
       "      <th>Autoconsumo (kWh)</th>\n",
       "      <th>Injeção na rede (kWh)</th>\n",
       "      <th>data_hora</th>\n",
       "      <th>dt</th>\n",
       "      <th>dt_iso</th>\n",
       "      <th>city_name</th>\n",
       "      <th>...</th>\n",
       "      <th>grnd_level</th>\n",
       "      <th>humidity</th>\n",
       "      <th>wind_speed</th>\n",
       "      <th>rain_1h</th>\n",
       "      <th>clouds_all</th>\n",
       "      <th>weather_description</th>\n",
       "      <th>Year</th>\n",
       "      <th>Month</th>\n",
       "      <th>Day</th>\n",
       "      <th>Hour</th>\n",
       "    </tr>\n",
       "  </thead>\n",
       "  <tbody>\n",
       "    <tr>\n",
       "      <th>11011</th>\n",
       "      <td>2022-12-31</td>\n",
       "      <td>19</td>\n",
       "      <td>1.693</td>\n",
       "      <td>0.000</td>\n",
       "      <td>0.0</td>\n",
       "      <td>None</td>\n",
       "      <td>2022-12-31 19</td>\n",
       "      <td>1672513200</td>\n",
       "      <td>2022-12-31 19:00:00 +0000 UTC</td>\n",
       "      <td>local</td>\n",
       "      <td>...</td>\n",
       "      <td>NaN</td>\n",
       "      <td>86</td>\n",
       "      <td>5.56</td>\n",
       "      <td>3.58</td>\n",
       "      <td>100</td>\n",
       "      <td>moderate rain</td>\n",
       "      <td>2022</td>\n",
       "      <td>12</td>\n",
       "      <td>31</td>\n",
       "      <td>19</td>\n",
       "    </tr>\n",
       "    <tr>\n",
       "      <th>11012</th>\n",
       "      <td>2022-12-31</td>\n",
       "      <td>20</td>\n",
       "      <td>1.327</td>\n",
       "      <td>0.000</td>\n",
       "      <td>0.0</td>\n",
       "      <td>None</td>\n",
       "      <td>2022-12-31 20</td>\n",
       "      <td>1672516800</td>\n",
       "      <td>2022-12-31 20:00:00 +0000 UTC</td>\n",
       "      <td>local</td>\n",
       "      <td>...</td>\n",
       "      <td>NaN</td>\n",
       "      <td>87</td>\n",
       "      <td>4.47</td>\n",
       "      <td>4.20</td>\n",
       "      <td>100</td>\n",
       "      <td>heavy intensity rain</td>\n",
       "      <td>2022</td>\n",
       "      <td>12</td>\n",
       "      <td>31</td>\n",
       "      <td>20</td>\n",
       "    </tr>\n",
       "    <tr>\n",
       "      <th>11013</th>\n",
       "      <td>2022-12-31</td>\n",
       "      <td>21</td>\n",
       "      <td>0.757</td>\n",
       "      <td>0.000</td>\n",
       "      <td>0.0</td>\n",
       "      <td>None</td>\n",
       "      <td>2022-12-31 21</td>\n",
       "      <td>1672520400</td>\n",
       "      <td>2022-12-31 21:00:00 +0000 UTC</td>\n",
       "      <td>local</td>\n",
       "      <td>...</td>\n",
       "      <td>NaN</td>\n",
       "      <td>93</td>\n",
       "      <td>3.29</td>\n",
       "      <td>4.23</td>\n",
       "      <td>100</td>\n",
       "      <td>heavy intensity rain</td>\n",
       "      <td>2022</td>\n",
       "      <td>12</td>\n",
       "      <td>31</td>\n",
       "      <td>21</td>\n",
       "    </tr>\n",
       "    <tr>\n",
       "      <th>11014</th>\n",
       "      <td>2022-12-31</td>\n",
       "      <td>22</td>\n",
       "      <td>0.000</td>\n",
       "      <td>0.675</td>\n",
       "      <td>0.0</td>\n",
       "      <td>None</td>\n",
       "      <td>2022-12-31 22</td>\n",
       "      <td>1672524000</td>\n",
       "      <td>2022-12-31 22:00:00 +0000 UTC</td>\n",
       "      <td>local</td>\n",
       "      <td>...</td>\n",
       "      <td>NaN</td>\n",
       "      <td>94</td>\n",
       "      <td>1.49</td>\n",
       "      <td>3.90</td>\n",
       "      <td>100</td>\n",
       "      <td>moderate rain</td>\n",
       "      <td>2022</td>\n",
       "      <td>12</td>\n",
       "      <td>31</td>\n",
       "      <td>22</td>\n",
       "    </tr>\n",
       "    <tr>\n",
       "      <th>11015</th>\n",
       "      <td>2022-12-31</td>\n",
       "      <td>23</td>\n",
       "      <td>0.000</td>\n",
       "      <td>0.403</td>\n",
       "      <td>0.0</td>\n",
       "      <td>None</td>\n",
       "      <td>2022-12-31 23</td>\n",
       "      <td>1672527600</td>\n",
       "      <td>2022-12-31 23:00:00 +0000 UTC</td>\n",
       "      <td>local</td>\n",
       "      <td>...</td>\n",
       "      <td>NaN</td>\n",
       "      <td>95</td>\n",
       "      <td>1.93</td>\n",
       "      <td>4.07</td>\n",
       "      <td>100</td>\n",
       "      <td>heavy intensity rain</td>\n",
       "      <td>2022</td>\n",
       "      <td>12</td>\n",
       "      <td>31</td>\n",
       "      <td>23</td>\n",
       "    </tr>\n",
       "  </tbody>\n",
       "</table>\n",
       "<p>5 rows × 26 columns</p>\n",
       "</div>"
      ],
      "text/plain": [
       "             Data  Hora  Normal (kWh)  Horário Económico (kWh)  \\\n",
       "11011  2022-12-31    19         1.693                    0.000   \n",
       "11012  2022-12-31    20         1.327                    0.000   \n",
       "11013  2022-12-31    21         0.757                    0.000   \n",
       "11014  2022-12-31    22         0.000                    0.675   \n",
       "11015  2022-12-31    23         0.000                    0.403   \n",
       "\n",
       "       Autoconsumo (kWh) Injeção na rede (kWh)      data_hora          dt  \\\n",
       "11011                0.0                  None  2022-12-31 19  1672513200   \n",
       "11012                0.0                  None  2022-12-31 20  1672516800   \n",
       "11013                0.0                  None  2022-12-31 21  1672520400   \n",
       "11014                0.0                  None  2022-12-31 22  1672524000   \n",
       "11015                0.0                  None  2022-12-31 23  1672527600   \n",
       "\n",
       "                              dt_iso city_name  ...  grnd_level  humidity  \\\n",
       "11011  2022-12-31 19:00:00 +0000 UTC     local  ...         NaN        86   \n",
       "11012  2022-12-31 20:00:00 +0000 UTC     local  ...         NaN        87   \n",
       "11013  2022-12-31 21:00:00 +0000 UTC     local  ...         NaN        93   \n",
       "11014  2022-12-31 22:00:00 +0000 UTC     local  ...         NaN        94   \n",
       "11015  2022-12-31 23:00:00 +0000 UTC     local  ...         NaN        95   \n",
       "\n",
       "       wind_speed  rain_1h  clouds_all   weather_description  Year  Month  \\\n",
       "11011        5.56     3.58         100         moderate rain  2022     12   \n",
       "11012        4.47     4.20         100  heavy intensity rain  2022     12   \n",
       "11013        3.29     4.23         100  heavy intensity rain  2022     12   \n",
       "11014        1.49     3.90         100         moderate rain  2022     12   \n",
       "11015        1.93     4.07         100  heavy intensity rain  2022     12   \n",
       "\n",
       "       Day  Hour  \n",
       "11011   31    19  \n",
       "11012   31    20  \n",
       "11013   31    21  \n",
       "11014   31    22  \n",
       "11015   31    23  \n",
       "\n",
       "[5 rows x 26 columns]"
      ]
     },
     "metadata": {},
     "output_type": "display_data"
    }
   ],
   "source": [
    "display(df.tail())"
   ]
  },
  {
   "cell_type": "markdown",
   "metadata": {},
   "source": [
    "Ordenado por Data not good"
   ]
  },
  {
   "cell_type": "code",
   "execution_count": 10,
   "metadata": {},
   "outputs": [
    {
     "data": {
      "text/plain": [
       "(11016, 26)"
      ]
     },
     "metadata": {},
     "output_type": "display_data"
    }
   ],
   "source": [
    "display(df.shape)"
   ]
  },
  {
   "cell_type": "code",
   "execution_count": 11,
   "metadata": {},
   "outputs": [
    {
     "data": {
      "text/html": [
       "<div>\n",
       "<style scoped>\n",
       "    .dataframe tbody tr th:only-of-type {\n",
       "        vertical-align: middle;\n",
       "    }\n",
       "\n",
       "    .dataframe tbody tr th {\n",
       "        vertical-align: top;\n",
       "    }\n",
       "\n",
       "    .dataframe thead th {\n",
       "        text-align: right;\n",
       "    }\n",
       "</style>\n",
       "<table border=\"1\" class=\"dataframe\">\n",
       "  <thead>\n",
       "    <tr style=\"text-align: right;\">\n",
       "      <th></th>\n",
       "      <th>Hora</th>\n",
       "      <th>Normal (kWh)</th>\n",
       "      <th>Horário Económico (kWh)</th>\n",
       "      <th>Autoconsumo (kWh)</th>\n",
       "      <th>dt</th>\n",
       "      <th>temp</th>\n",
       "      <th>feels_like</th>\n",
       "      <th>temp_min</th>\n",
       "      <th>temp_max</th>\n",
       "      <th>pressure</th>\n",
       "      <th>sea_level</th>\n",
       "      <th>grnd_level</th>\n",
       "      <th>humidity</th>\n",
       "      <th>wind_speed</th>\n",
       "      <th>rain_1h</th>\n",
       "      <th>clouds_all</th>\n",
       "      <th>Year</th>\n",
       "      <th>Month</th>\n",
       "      <th>Day</th>\n",
       "      <th>Hour</th>\n",
       "    </tr>\n",
       "  </thead>\n",
       "  <tbody>\n",
       "    <tr>\n",
       "      <th>count</th>\n",
       "      <td>11016.000000</td>\n",
       "      <td>11016.000000</td>\n",
       "      <td>11016.000000</td>\n",
       "      <td>11016.000000</td>\n",
       "      <td>1.101600e+04</td>\n",
       "      <td>11016.000000</td>\n",
       "      <td>11016.000000</td>\n",
       "      <td>11016.000000</td>\n",
       "      <td>11016.000000</td>\n",
       "      <td>11016.000000</td>\n",
       "      <td>0.0</td>\n",
       "      <td>0.0</td>\n",
       "      <td>11016.000000</td>\n",
       "      <td>11016.000000</td>\n",
       "      <td>2284.000000</td>\n",
       "      <td>11016.000000</td>\n",
       "      <td>11016.000000</td>\n",
       "      <td>11016.000000</td>\n",
       "      <td>11016.000000</td>\n",
       "      <td>11016.000000</td>\n",
       "    </tr>\n",
       "    <tr>\n",
       "      <th>mean</th>\n",
       "      <td>11.500000</td>\n",
       "      <td>0.202278</td>\n",
       "      <td>0.159714</td>\n",
       "      <td>0.117314</td>\n",
       "      <td>1.652701e+09</td>\n",
       "      <td>16.182991</td>\n",
       "      <td>15.826868</td>\n",
       "      <td>14.195064</td>\n",
       "      <td>17.288098</td>\n",
       "      <td>1018.396605</td>\n",
       "      <td>NaN</td>\n",
       "      <td>NaN</td>\n",
       "      <td>76.570715</td>\n",
       "      <td>2.672039</td>\n",
       "      <td>0.896642</td>\n",
       "      <td>54.000908</td>\n",
       "      <td>2021.795207</td>\n",
       "      <td>7.433551</td>\n",
       "      <td>15.803922</td>\n",
       "      <td>11.500000</td>\n",
       "    </tr>\n",
       "    <tr>\n",
       "      <th>std</th>\n",
       "      <td>6.922501</td>\n",
       "      <td>0.349478</td>\n",
       "      <td>0.271792</td>\n",
       "      <td>0.176762</td>\n",
       "      <td>1.144868e+07</td>\n",
       "      <td>5.756972</td>\n",
       "      <td>6.264860</td>\n",
       "      <td>4.956014</td>\n",
       "      <td>6.164689</td>\n",
       "      <td>6.203379</td>\n",
       "      <td>NaN</td>\n",
       "      <td>NaN</td>\n",
       "      <td>16.268260</td>\n",
       "      <td>1.476158</td>\n",
       "      <td>1.079381</td>\n",
       "      <td>40.553002</td>\n",
       "      <td>0.403569</td>\n",
       "      <td>3.578335</td>\n",
       "      <td>8.835905</td>\n",
       "      <td>6.922501</td>\n",
       "    </tr>\n",
       "    <tr>\n",
       "      <th>min</th>\n",
       "      <td>0.000000</td>\n",
       "      <td>0.000000</td>\n",
       "      <td>0.000000</td>\n",
       "      <td>0.000000</td>\n",
       "      <td>1.632874e+09</td>\n",
       "      <td>0.320000</td>\n",
       "      <td>-2.190000</td>\n",
       "      <td>-0.640000</td>\n",
       "      <td>1.330000</td>\n",
       "      <td>994.000000</td>\n",
       "      <td>NaN</td>\n",
       "      <td>NaN</td>\n",
       "      <td>19.000000</td>\n",
       "      <td>0.060000</td>\n",
       "      <td>0.100000</td>\n",
       "      <td>0.000000</td>\n",
       "      <td>2021.000000</td>\n",
       "      <td>1.000000</td>\n",
       "      <td>1.000000</td>\n",
       "      <td>0.000000</td>\n",
       "    </tr>\n",
       "    <tr>\n",
       "      <th>25%</th>\n",
       "      <td>5.750000</td>\n",
       "      <td>0.000000</td>\n",
       "      <td>0.000000</td>\n",
       "      <td>0.000000</td>\n",
       "      <td>1.642787e+09</td>\n",
       "      <td>12.080000</td>\n",
       "      <td>11.507500</td>\n",
       "      <td>10.720000</td>\n",
       "      <td>12.890000</td>\n",
       "      <td>1015.000000</td>\n",
       "      <td>NaN</td>\n",
       "      <td>NaN</td>\n",
       "      <td>66.000000</td>\n",
       "      <td>1.620000</td>\n",
       "      <td>0.210000</td>\n",
       "      <td>7.000000</td>\n",
       "      <td>2022.000000</td>\n",
       "      <td>4.000000</td>\n",
       "      <td>8.000000</td>\n",
       "      <td>5.750000</td>\n",
       "    </tr>\n",
       "    <tr>\n",
       "      <th>50%</th>\n",
       "      <td>11.500000</td>\n",
       "      <td>0.000000</td>\n",
       "      <td>0.000000</td>\n",
       "      <td>0.000000</td>\n",
       "      <td>1.652701e+09</td>\n",
       "      <td>15.625000</td>\n",
       "      <td>15.230000</td>\n",
       "      <td>14.230000</td>\n",
       "      <td>16.260000</td>\n",
       "      <td>1018.000000</td>\n",
       "      <td>NaN</td>\n",
       "      <td>NaN</td>\n",
       "      <td>81.000000</td>\n",
       "      <td>2.400000</td>\n",
       "      <td>0.460000</td>\n",
       "      <td>60.000000</td>\n",
       "      <td>2022.000000</td>\n",
       "      <td>8.000000</td>\n",
       "      <td>16.000000</td>\n",
       "      <td>11.500000</td>\n",
       "    </tr>\n",
       "    <tr>\n",
       "      <th>75%</th>\n",
       "      <td>17.250000</td>\n",
       "      <td>0.314000</td>\n",
       "      <td>0.288000</td>\n",
       "      <td>0.227000</td>\n",
       "      <td>1.662614e+09</td>\n",
       "      <td>19.270000</td>\n",
       "      <td>19.260000</td>\n",
       "      <td>17.490000</td>\n",
       "      <td>20.340000</td>\n",
       "      <td>1022.000000</td>\n",
       "      <td>NaN</td>\n",
       "      <td>NaN</td>\n",
       "      <td>91.000000</td>\n",
       "      <td>3.420000</td>\n",
       "      <td>1.092500</td>\n",
       "      <td>98.000000</td>\n",
       "      <td>2022.000000</td>\n",
       "      <td>11.000000</td>\n",
       "      <td>23.000000</td>\n",
       "      <td>17.250000</td>\n",
       "    </tr>\n",
       "    <tr>\n",
       "      <th>max</th>\n",
       "      <td>23.000000</td>\n",
       "      <td>3.251000</td>\n",
       "      <td>6.978000</td>\n",
       "      <td>1.192000</td>\n",
       "      <td>1.672528e+09</td>\n",
       "      <td>40.850000</td>\n",
       "      <td>41.330000</td>\n",
       "      <td>36.720000</td>\n",
       "      <td>41.450000</td>\n",
       "      <td>1034.000000</td>\n",
       "      <td>NaN</td>\n",
       "      <td>NaN</td>\n",
       "      <td>100.000000</td>\n",
       "      <td>11.100000</td>\n",
       "      <td>7.450000</td>\n",
       "      <td>100.000000</td>\n",
       "      <td>2022.000000</td>\n",
       "      <td>12.000000</td>\n",
       "      <td>31.000000</td>\n",
       "      <td>23.000000</td>\n",
       "    </tr>\n",
       "  </tbody>\n",
       "</table>\n",
       "</div>"
      ],
      "text/plain": [
       "               Hora  Normal (kWh)  Horário Económico (kWh)  Autoconsumo (kWh)  \\\n",
       "count  11016.000000  11016.000000             11016.000000       11016.000000   \n",
       "mean      11.500000      0.202278                 0.159714           0.117314   \n",
       "std        6.922501      0.349478                 0.271792           0.176762   \n",
       "min        0.000000      0.000000                 0.000000           0.000000   \n",
       "25%        5.750000      0.000000                 0.000000           0.000000   \n",
       "50%       11.500000      0.000000                 0.000000           0.000000   \n",
       "75%       17.250000      0.314000                 0.288000           0.227000   \n",
       "max       23.000000      3.251000                 6.978000           1.192000   \n",
       "\n",
       "                 dt          temp    feels_like      temp_min      temp_max  \\\n",
       "count  1.101600e+04  11016.000000  11016.000000  11016.000000  11016.000000   \n",
       "mean   1.652701e+09     16.182991     15.826868     14.195064     17.288098   \n",
       "std    1.144868e+07      5.756972      6.264860      4.956014      6.164689   \n",
       "min    1.632874e+09      0.320000     -2.190000     -0.640000      1.330000   \n",
       "25%    1.642787e+09     12.080000     11.507500     10.720000     12.890000   \n",
       "50%    1.652701e+09     15.625000     15.230000     14.230000     16.260000   \n",
       "75%    1.662614e+09     19.270000     19.260000     17.490000     20.340000   \n",
       "max    1.672528e+09     40.850000     41.330000     36.720000     41.450000   \n",
       "\n",
       "           pressure  sea_level  grnd_level      humidity    wind_speed  \\\n",
       "count  11016.000000        0.0         0.0  11016.000000  11016.000000   \n",
       "mean    1018.396605        NaN         NaN     76.570715      2.672039   \n",
       "std        6.203379        NaN         NaN     16.268260      1.476158   \n",
       "min      994.000000        NaN         NaN     19.000000      0.060000   \n",
       "25%     1015.000000        NaN         NaN     66.000000      1.620000   \n",
       "50%     1018.000000        NaN         NaN     81.000000      2.400000   \n",
       "75%     1022.000000        NaN         NaN     91.000000      3.420000   \n",
       "max     1034.000000        NaN         NaN    100.000000     11.100000   \n",
       "\n",
       "           rain_1h    clouds_all          Year         Month           Day  \\\n",
       "count  2284.000000  11016.000000  11016.000000  11016.000000  11016.000000   \n",
       "mean      0.896642     54.000908   2021.795207      7.433551     15.803922   \n",
       "std       1.079381     40.553002      0.403569      3.578335      8.835905   \n",
       "min       0.100000      0.000000   2021.000000      1.000000      1.000000   \n",
       "25%       0.210000      7.000000   2022.000000      4.000000      8.000000   \n",
       "50%       0.460000     60.000000   2022.000000      8.000000     16.000000   \n",
       "75%       1.092500     98.000000   2022.000000     11.000000     23.000000   \n",
       "max       7.450000    100.000000   2022.000000     12.000000     31.000000   \n",
       "\n",
       "               Hour  \n",
       "count  11016.000000  \n",
       "mean      11.500000  \n",
       "std        6.922501  \n",
       "min        0.000000  \n",
       "25%        5.750000  \n",
       "50%       11.500000  \n",
       "75%       17.250000  \n",
       "max       23.000000  "
      ]
     },
     "execution_count": 11,
     "metadata": {},
     "output_type": "execute_result"
    }
   ],
   "source": [
    "df.describe()"
   ]
  },
  {
   "cell_type": "markdown",
   "metadata": {},
   "source": [
    "Check for missing values"
   ]
  },
  {
   "cell_type": "code",
   "execution_count": 12,
   "metadata": {},
   "outputs": [
    {
     "data": {
      "text/plain": [
       "Data                       False\n",
       "Hora                       False\n",
       "Normal (kWh)               False\n",
       "Horário Económico (kWh)    False\n",
       "Autoconsumo (kWh)          False\n",
       "Injeção na rede (kWh)      False\n",
       "data_hora                  False\n",
       "dt                         False\n",
       "dt_iso                     False\n",
       "city_name                  False\n",
       "temp                       False\n",
       "feels_like                 False\n",
       "temp_min                   False\n",
       "temp_max                   False\n",
       "pressure                   False\n",
       "sea_level                   True\n",
       "grnd_level                  True\n",
       "humidity                   False\n",
       "wind_speed                 False\n",
       "rain_1h                     True\n",
       "clouds_all                 False\n",
       "weather_description        False\n",
       "Year                       False\n",
       "Month                      False\n",
       "Day                        False\n",
       "Hour                       False\n",
       "dtype: bool"
      ]
     },
     "execution_count": 12,
     "metadata": {},
     "output_type": "execute_result"
    }
   ],
   "source": [
    "'''\n",
    "Missing data\n",
    "'''\n",
    "df.isnull().any()"
   ]
  },
  {
   "cell_type": "markdown",
   "metadata": {},
   "source": [
    "Como já sabemos ha 2 que nem dados tem a outra tem mt poouco entao tbm vai ser removida"
   ]
  },
  {
   "cell_type": "markdown",
   "metadata": {},
   "source": [
    "## 2023"
   ]
  },
  {
   "cell_type": "code",
   "execution_count": 13,
   "metadata": {},
   "outputs": [
    {
     "name": "stdout",
     "output_type": "stream",
     "text": [
      "<class 'pandas.core.frame.DataFrame'>\n",
      "RangeIndex: 2256 entries, 0 to 2255\n",
      "Data columns (total 6 columns):\n",
      " #   Column                   Non-Null Count  Dtype  \n",
      "---  ------                   --------------  -----  \n",
      " 0   Data                     2256 non-null   object \n",
      " 1   Hora                     2256 non-null   int64  \n",
      " 2   Normal (kWh)             2256 non-null   float64\n",
      " 3   Horário Económico (kWh)  2256 non-null   float64\n",
      " 4   Autoconsumo (kWh)        2256 non-null   float64\n",
      " 5   data_hora                2256 non-null   object \n",
      "dtypes: float64(3), int64(1), object(2)\n",
      "memory usage: 105.9+ KB\n",
      "<class 'pandas.core.frame.DataFrame'>\n",
      "RangeIndex: 1752 entries, 0 to 1751\n",
      "Data columns (total 16 columns):\n",
      " #   Column               Non-Null Count  Dtype  \n",
      "---  ------               --------------  -----  \n",
      " 0   dt                   1752 non-null   int64  \n",
      " 1   dt_iso               1752 non-null   object \n",
      " 2   city_name            1752 non-null   object \n",
      " 3   temp                 1752 non-null   float64\n",
      " 4   feels_like           1752 non-null   float64\n",
      " 5   temp_min             1752 non-null   float64\n",
      " 6   temp_max             1752 non-null   float64\n",
      " 7   pressure             1752 non-null   int64  \n",
      " 8   sea_level            0 non-null      float64\n",
      " 9   grnd_level           0 non-null      float64\n",
      " 10  humidity             1752 non-null   int64  \n",
      " 11  wind_speed           1752 non-null   float64\n",
      " 12  rain_1h              206 non-null    float64\n",
      " 13  clouds_all           1752 non-null   int64  \n",
      " 14  weather_description  1752 non-null   object \n",
      " 15  data_hora            1752 non-null   object \n",
      "dtypes: float64(8), int64(4), object(4)\n",
      "memory usage: 219.1+ KB\n"
     ]
    }
   ],
   "source": [
    "energy2023.info()\n",
    "metereologia2023.info()"
   ]
  },
  {
   "cell_type": "markdown",
   "metadata": {},
   "source": [
    "Some metereological data is missing lets check out what data is missing"
   ]
  },
  {
   "cell_type": "code",
   "execution_count": 14,
   "metadata": {},
   "outputs": [
    {
     "data": {
      "text/plain": [
       "(504,)"
      ]
     },
     "metadata": {},
     "output_type": "display_data"
    }
   ],
   "source": [
    "missingData2023 = pd.merge(energy2023, metereologia2023,on='data_hora', how='left', indicator=True)\n",
    "# Get values in df1 but not in df2\n",
    "missingDates2023 = missingData2023.loc[missingData2023['_merge'] != 'both','data_hora']\n",
    "display(missingDates2023.shape)\n",
    "missingDates2023.to_csv('missing_dates.csv')\n"
   ]
  },
  {
   "cell_type": "markdown",
   "metadata": {},
   "source": [
    "Since is sequencial days and is full days we can't calculate averages of days around this date so we are going to use the data from the previous year for this days and using the average diference from the data we have"
   ]
  },
  {
   "cell_type": "code",
   "execution_count": 15,
   "metadata": {},
   "outputs": [
    {
     "data": {
      "text/plain": [
       "{'temp': 3.3128481735159823,\n",
       " 'feels_like': 3.7731621004566214,\n",
       " 'temp_min': 3.4328881278538814,\n",
       " 'temp_max': 3.2145433789954336,\n",
       " 'pressure': 5.890410958904109,\n",
       " 'humidity': 16.458904109589042,\n",
       " 'wind_speed': 1.483316210045662,\n",
       " 'clouds_all': 41.64954337899543,\n",
       " 'weather_description': 1.95662100456621}"
      ]
     },
     "metadata": {},
     "output_type": "display_data"
    }
   ],
   "source": [
    "existingDates2023 = missingData2023.loc[missingData2023['_merge'] == 'both','data_hora']\n",
    "mapped_existing_dates = existingDates2023.apply(lambda x: int(datetime.datetime.strptime(\"2022\"+x[4:]+\":00:00\",\"%Y-%m-%d %H:%M:%S\").timestamp()))\n",
    "\n",
    "t = metereologia2022[metereologia2022['dt'].isin(mapped_existing_dates)].copy()\n",
    "t['data_hora'] = t['dt_iso'].apply(lambda x: \"2023\" + x[4:13])\n",
    "t2 = metereologia2023.copy()\n",
    "\n",
    "merged_df = pd.merge(t, t2, on='data_hora', suffixes=('2022', '2023'))\n",
    "merged_df[\"weather_description2023\"] = merged_df[\"weather_description2023\"].map({'sky is clear':0,'few clouds':1, 'scattered clouds':2, 'broken clouds':3, 'overcast clouds':4,'light rain':5,'moderate rain':6,'heavy intensity rain':7})\n",
    "merged_df[\"weather_description2022\"] = merged_df[\"weather_description2022\"].map({'sky is clear':0,'few clouds':1, 'scattered clouds':2, 'broken clouds':3, 'overcast clouds':4,'light rain':5,'moderate rain':6,'heavy intensity rain':7})\n",
    "for i in [\"dt_iso\",\"city_name\",\"sea_level\",\"grnd_level\",\"dt\",\"rain_1h\"]:\n",
    "    if i+\"2022\" in merged_df.columns:\n",
    "        merged_df.drop(i+\"2022\", axis=1, inplace=True)\n",
    "    if i+\"2023\" in merged_df.columns:\n",
    "        merged_df.drop(i+\"2023\", axis=1, inplace=True)\n",
    "merged_df.drop(\"data_hora\", axis=1, inplace=True)\n",
    "for i in filter(lambda x : x.endswith(\"2022\") ,merged_df.columns):\n",
    "    merged_df[i[:-4]] = merged_df[i].sub(merged_df[i[:-4]+\"2023\"]).abs()\n",
    "    merged_df.drop(i, axis=1, inplace=True)\n",
    "    merged_df.drop(i[:-4]+\"2023\", axis=1, inplace=True)\n",
    "    \n",
    "averages ={}\n",
    "for i in merged_df.columns:\n",
    "    averages[i] = merged_df[i].mean()\n",
    "display(averages)"
   ]
  },
  {
   "cell_type": "markdown",
   "metadata": {},
   "source": [
    "There is a big diference mainly in clouds and weather so using the previous year data might be a bad idea"
   ]
  },
  {
   "cell_type": "markdown",
   "metadata": {},
   "source": [
    "# The dataset is composed of\n",
    "- Normal (kWh) - The comsumption of eletricity in normal period from the grid\n",
    "- Horário Económico (kWh) - The comsumption of eletricity in economic period from the grid\n",
    "- Autoconsumo (kWh) - The comsumption of eletricity from the solar panels\n",
    "- Injeção na rede (kWh) - The eletricity sent to the grid from the solar panels\n",
    "- temp - Temperature in ºC\n",
    "- feels_like - Thermal sensation in ºC\n",
    "- temp_min - Minimal temperature felt in ºC\n",
    "- temp_max - Maximum temperature felt in ºC\n",
    "- pressure - atmosferic pressure\n",
    "- sea_level - atmosferic pressure felt at sea level\n",
    "- grnd_level - atmosferic pressure at the local ground level\n",
    "- humidity - humidity percentage\n",
    "- wind_speed - wind speed in meters/second\n",
    "- rain_1h - precipitation average value\n",
    "- clouds_all - cloudiness percentage\n",
    "- weather_description - Qualititive description of the weather (might be able to become numeric)\n",
    "- year - The year the data was collected on\n",
    "- month - The month the data was collected on\n",
    "- day - the day the data was collected on\n",
    "- hour - the hour the data was collected on\n",
    "- Data - the date the data was colllected on\n",
    "- Hora - the hour the data was collected on\n",
    "- dt - the timestamp the data was collected on\n",
    "- dt_iso - the timestamp in iso standard the data was collected on\n",
    "- city_name - the local where the data was gatherd"
   ]
  },
  {
   "cell_type": "markdown",
   "metadata": {},
   "source": [
    "**2. Data preparation and transformation**\n",
    "\n",
    "- drop useless columns\n",
    "- rename columns \n",
    "- handle missing values\n",
    "- create new features\n",
    "- handle wrong data types\n",
    "- remove outliers"
   ]
  },
  {
   "cell_type": "markdown",
   "metadata": {},
   "source": [
    "## 2023 Preparation"
   ]
  },
  {
   "cell_type": "markdown",
   "metadata": {},
   "source": [
    "Load the weather data we got online"
   ]
  },
  {
   "cell_type": "code",
   "execution_count": 16,
   "metadata": {},
   "outputs": [],
   "source": [
    "metereologiacont2023 = pd.read_csv('metereology.csv',na_values=[''])\n",
    "metereologiacont2023['data_hora'] = metereologiacont2023['dt_iso'].apply(cleanExtraTimeData)\n",
    "metereologiacont2023 = metereologiacont2023[metereologiacont2023['data_hora'].isin(energy2023['data_hora'])]\n",
    "metereologiacont2023 = metereologiacont2023[~metereologiacont2023['data_hora'].isin(metereologia2023['data_hora'])]\n",
    "metereologia2023 = pd.concat([metereologia2023,metereologiacont2023])\n",
    "\n",
    "metereologia2023 = pd.concat([metereologia2023, metereologia2023['data_hora'].apply(separateDate)], axis=1)"
   ]
  },
  {
   "cell_type": "markdown",
   "metadata": {},
   "source": [
    "Now we can join the energy and metereology dataset"
   ]
  },
  {
   "cell_type": "code",
   "execution_count": 17,
   "metadata": {},
   "outputs": [
    {
     "name": "stdout",
     "output_type": "stream",
     "text": [
      "(2256, 25)\n"
     ]
    }
   ],
   "source": [
    "\n",
    "df2023 = pd.merge(energy2023, metereologia2023, on='data_hora', how='inner')\n",
    "\n",
    "print(df2023.shape)"
   ]
  },
  {
   "cell_type": "markdown",
   "metadata": {},
   "source": [
    "## general data preparation"
   ]
  },
  {
   "cell_type": "markdown",
   "metadata": {},
   "source": [
    "- Since the city_name is always the same and there is no ground level pressure and sea level pressure data these columns where removed.\n",
    "- data_hora was just used to join the weather to the power production so it can be removed\n",
    "- Data and Hora have the same data as dt,dt_iso and year,month,day,hour so since year,month,day,hour gives us the most data we chose to eliminate the others\n",
    "- Since preticipation has a lot os missing values and does not have a high correlation with the column to predict we decided to delete the column"
   ]
  },
  {
   "cell_type": "code",
   "execution_count": 18,
   "metadata": {},
   "outputs": [],
   "source": [
    "df.drop(columns=['data_hora','Data','Hora','city_name','dt','dt_iso','grnd_level','sea_level','rain_1h'],inplace=True)\n",
    "df2023.drop(columns=['data_hora','Data','Hora','city_name','dt','dt_iso','grnd_level','sea_level','rain_1h'],inplace=True)"
   ]
  },
  {
   "cell_type": "markdown",
   "metadata": {},
   "source": [
    "Rename all columns to english"
   ]
  },
  {
   "cell_type": "code",
   "execution_count": 19,
   "metadata": {},
   "outputs": [],
   "source": [
    "new_column_names = {\n",
    "    'Normal (kWh)': 'Normal',\n",
    "    'Horário Económico (kWh)': 'Economical',\n",
    "    'Autoconsumo (kWh)': 'Solar',\n",
    "    'Injeção na rede (kWh)': 'Excess',\n",
    "    'temp':'Temperature',\n",
    "    'feels_like':'ThermalSensation',\n",
    "    'temp_min':'MinTemperature',\n",
    "    'temp_max':'MaxTemperature',\n",
    "    'pressure':'Pressure',\n",
    "    'humidity':'Humidity',\n",
    "    'wind_speed':'WindSpeed',\n",
    "    'rain_1h': 'Precipitation',\n",
    "    'clouds_all':'Cloudiness',\n",
    "    'weather_description':'Weather'\n",
    "    }\n",
    "\n",
    "# Use the .rename() method to rename specific columns\n",
    "df = df.rename(columns=new_column_names)\n",
    "df2023 = df2023.rename(columns=new_column_names)"
   ]
  },
  {
   "cell_type": "markdown",
   "metadata": {},
   "source": [
    "convert to categorical"
   ]
  },
  {
   "cell_type": "code",
   "execution_count": 20,
   "metadata": {},
   "outputs": [],
   "source": [
    "for i in ['Excess','Weather']:\n",
    "    df[i] = df[i].astype('category')\n",
    "df2023['Weather'] = df2023['Weather'].astype('category')\n"
   ]
  },
  {
   "cell_type": "markdown",
   "metadata": {},
   "source": [
    "convert float64 to float 32"
   ]
  },
  {
   "cell_type": "code",
   "execution_count": 21,
   "metadata": {},
   "outputs": [],
   "source": [
    "for column in df.columns:\n",
    "    if df[column].dtype == 'float64':\n",
    "        df[column] = df[column].astype('float32')\n",
    "for column in df2023.columns:\n",
    "    if df2023[column].dtype == 'float64':\n",
    "        df2023[column] = df2023[column].astype('float32')\n"
   ]
  },
  {
   "cell_type": "markdown",
   "metadata": {},
   "source": [
    "treat outliers"
   ]
  },
  {
   "cell_type": "code",
   "execution_count": 22,
   "metadata": {},
   "outputs": [],
   "source": [
    "def handle_outliers(df, threshold=3):\n",
    "    # Calculate z-scores for numeric columns\n",
    "    numeric_columns = df.select_dtypes(include=['number'])\n",
    "    z_scores = (numeric_columns - numeric_columns.mean()) / numeric_columns.std()\n",
    "\n",
    "    # Replace outliers with the nearest acceptable value (clipping)\n",
    "    for col in numeric_columns.columns:\n",
    "        is_outlier = (z_scores[col].abs() > threshold)\n",
    "        \n",
    "        # Use the training dataset (df) to get min and max values for clipping\n",
    "        lower_bound = numeric_columns[col][~is_outlier].min()\n",
    "        upper_bound = numeric_columns[col][~is_outlier].max()\n",
    "\n",
    "        # Apply clipping to the testing dataset (df2023)\n",
    "        df[col] = df[col].clip(lower=lower_bound, upper=upper_bound)\n",
    "\n",
    "# Applying the function to the testing dataset (df2023)\n",
    "handle_outliers(df2023)\n",
    "handle_outliers(df)\n"
   ]
  },
  {
   "cell_type": "markdown",
   "metadata": {},
   "source": [
    "Transform weather in a number atributing 0 to the most clouds and increasing to least clouds"
   ]
  },
  {
   "cell_type": "code",
   "execution_count": 23,
   "metadata": {},
   "outputs": [],
   "source": [
    "df[\"Weather\"] = df[\"Weather\"].map({'sky is clear':7,'few clouds':6, 'scattered clouds':5, 'broken clouds':4, 'overcast clouds':3,'light rain':2,'moderate rain':1,'heavy intensity rain':0})\n",
    "df2023[\"Weather\"] = df2023[\"Weather\"].map({'sky is clear':7,'few clouds':6, 'scattered clouds':5, 'broken clouds':4, 'overcast clouds':3,'light rain':2,'moderate rain':1,'heavy intensity rain':0})"
   ]
  },
  {
   "cell_type": "markdown",
   "metadata": {},
   "source": [
    "otherwise None will be confused with no value"
   ]
  },
  {
   "cell_type": "code",
   "execution_count": 24,
   "metadata": {},
   "outputs": [],
   "source": [
    "df.replace(\"None\", \"N/A\", inplace=True)"
   ]
  },
  {
   "cell_type": "code",
   "execution_count": 26,
   "metadata": {},
   "outputs": [],
   "source": [
    "# All imports for each model\n",
    "from sklearn.linear_model import LogisticRegression,SGDClassifier\n",
    "from sklearn.model_selection import train_test_split,cross_val_score\n",
    "from sklearn.metrics import make_scorer, accuracy_score, precision_score, f1_score, confusion_matrix\n",
    "from sklearn.model_selection import KFold,GridSearchCV\n",
    "from sklearn import svm\n",
    "from sklearn.utils import class_weight\n",
    "from sklearn.neighbors import KNeighborsClassifier\n",
    "from sklearn.tree import DecisionTreeClassifier\n",
    "from sklearn.ensemble import RandomForestClassifier,ExtraTreesClassifier,BaggingClassifier,AdaBoostClassifier,StackingClassifier,VotingClassifier\n",
    "from sklearn.naive_bayes import MultinomialNB\n",
    "from sklearn.cluster import KMeans\n",
    "from sklearn.preprocessing import LabelEncoder,StandardScaler\n",
    "from xgboost import XGBClassifier\n",
    "\n",
    "import warnings\n",
    "\n",
    "# Setting the number of folds for cross-validation to 10\n",
    "folds = 10"
   ]
  },
  {
   "cell_type": "code",
   "execution_count": 27,
   "metadata": {},
   "outputs": [],
   "source": [
    "df_shuffled = df.sample(frac=1, random_state=RANDOM_SEED)\n",
    "\n",
    "kf = KFold(n_splits=folds, shuffle=True, random_state=RANDOM_SEED)\n",
    "# Additional KFold cross-validation object with 5 splits and shuffle, for use with grid search\n",
    "kgs = KFold(n_splits=5, shuffle=True, random_state=RANDOM_SEED)"
   ]
  },
  {
   "cell_type": "code",
   "execution_count": 28,
   "metadata": {},
   "outputs": [],
   "source": [
    "\n",
    "submit = True\n",
    "results={}\n",
    "\n",
    "#class_weights = class_weight.compute_class_weight('balanced', classes=np.unique(df_shuffled[\"Excess\"]), y=df_shuffled[\"Excess\"])\n",
    "\n",
    "\n",
    "def resultToOriginalValue(x):\n",
    "    return [\"None\" if i==\"N/A\" else i for i in x]\n"
   ]
  },
  {
   "cell_type": "code",
   "execution_count": 36,
   "metadata": {},
   "outputs": [],
   "source": [
    "import os \n",
    "\n",
    "from PIL import Image\n",
    "\n",
    "\n",
    "#Function for showing the plots of the grid search history\n",
    "def grid_search_history(name):\n",
    "    files = os.listdir(f\"images/{name}\")\n",
    "    files.sort()\n",
    "    for file in files:\n",
    "        yield Image.open(f\"images/{name}/{file}\")\n",
    "        \n",
    "def getXyTrain(colsToDrop):\n",
    "    X = df_shuffled.drop(columns=[\"Excess\"]+colsToDrop)\n",
    "    y = df_shuffled[\"Excess\"]\n",
    "    return X,y\n",
    "\n",
    "\n",
    "def getTest(colsToDrop):\n",
    "    return df2023.drop(columns=colsToDrop)\n",
    "\n",
    "def getXyTrainScaler(colsToDrop):\n",
    "    scaler = StandardScaler()\n",
    "    X = df_shuffled.drop(columns=[\"Excess\"]+colsToDrop)\n",
    "    y = df_shuffled[\"Excess\"]\n",
    "    \n",
    "    # Scaling the features\n",
    "    X_scaled = scaler.fit_transform(X)\n",
    "    \n",
    "    # Creating pandas DataFrames for X_scaled and y\n",
    "    X_df = pd.DataFrame(X_scaled, columns=X.columns)\n",
    "    y_df = pd.DataFrame(y, columns=[\"Excess\"])\n",
    "    \n",
    "    return X_df, y_df\n",
    "\n",
    "\n",
    "def getTestScaler(colsToDrop):\n",
    "    scaler = StandardScaler()\n",
    "    X = df2023.drop(columns=colsToDrop)\n",
    "    X_scaled = scaler.fit_transform(X)\n",
    "    X_df = pd.DataFrame(X_scaled, columns=X.columns)\n",
    "    return X_df\n",
    "\n",
    "#Function for cross validation of a model and printing the results\n",
    "def cross_validate(best_model,X,y):\n",
    "\n",
    "    # Ignore specific warnings for the duration of this function\n",
    "    warnings.simplefilter(\"ignore\")\n",
    "    os.environ[\"PYTHONWARNINGS\"] = \"ignore\"\n",
    "    \n",
    "    # Lists to store accuracy scores for each fold\n",
    "    scores = {\"accuracy\": [], \"f1\": [], \"precision\": []}\n",
    "    confusion_matrices = []\n",
    "\n",
    "    for train_index, test_index in kf.split(X):\n",
    "        # Split the data into training and test sets\n",
    "        X_train, X_test = X.iloc[train_index], X.iloc[test_index]\n",
    "        y_train, y_test = y.iloc[train_index], y.iloc[test_index]\n",
    "        \n",
    "        # Fit the model to the training data\n",
    "        best_model.fit(X_train, y_train)\n",
    "        \n",
    "        # Make predictions on the test data\n",
    "        y_pred = best_model.predict(X_test)\n",
    "        \n",
    "        # Calculate evaluation metrics for this fold\n",
    "        confusion_matrices.append(confusion_matrix(y_test, y_pred))\n",
    "        scores[\"accuracy\"].append(accuracy_score(y_test, y_pred))\n",
    "        scores[\"f1\"].append(f1_score(y_test, y_pred, average='weighted'))\n",
    "        scores[\"precision\"].append(precision_score(y_test, y_pred, average='weighted'))\n",
    "\n",
    "    # Calculate and display mean evaluation metrics across all folds\n",
    "    mean_confusion = sum(confusion_matrices) / folds\n",
    "    mean_confusion_percentage = (mean_confusion / mean_confusion.sum()) * 100\n",
    "    for k, i in scores.items():\n",
    "        scores[k] = sum(i) / folds\n",
    "        display(f\"Mean {k}: {sum(i) / folds}\")\n",
    "    results[best_model.__class__.__name__] = scores\n",
    "    # Visualize the mean confusion matrix\n",
    "    plt.figure(figsize=(8, 6))\n",
    "    sns.heatmap(mean_confusion_percentage, annot=True, fmt=\".2f\", cmap=\"Blues\", cbar=False)\n",
    "    plt.xlabel(\"Predicted\")\n",
    "    plt.ylabel(\"True\")\n",
    "    plt.title(\"Confusion Matrix (in percentages)\")\n",
    "    plt.show()\n",
    "    \n",
    "    # Restore default warning settings\n",
    "    warnings.simplefilter(\"default\")\n",
    "    os.environ[\"PYTHONWARNINGS\"] = \"default\"\n",
    "def testAndSubmit(grid_search,file_name,scaler=False):\n",
    "    result={}\n",
    "\n",
    "    model = grid_search.best_estimator_\n",
    "    X,y = [],[]\n",
    "    test = []\n",
    "    if scaler:\n",
    "        X,y = getXyTrainScaler(colsToDrop)\n",
    "        test = getTestScaler(colsToDrop)\n",
    "    else:\n",
    "        X,y = getXyTrain(colsToDrop)\n",
    "        test = getTest(colsToDrop)\n",
    "    if submit:\n",
    "        model.fit(X,y)\n",
    "        y_predict=model.predict(test)\n",
    "        result['results']=resultToOriginalValue(y_predict)\n",
    "        pd.DataFrame({'RowId':range(1,len(result['results'])+1),'Result': result['results']}).to_csv(file_name, index=False)\n",
    "\n",
    "    cross_validate(model,X,y)\n",
    "\n",
    "    "
   ]
  },
  {
   "cell_type": "markdown",
   "metadata": {},
   "source": [
    "## Logistical Regression"
   ]
  },
  {
   "cell_type": "code",
   "execution_count": 33,
   "metadata": {},
   "outputs": [
    {
     "name": "stderr",
     "output_type": "stream",
     "text": [
      "/tmp/ipykernel_3490660/3908716027.py:28: FutureWarning: In a future version, the Index constructor will not infer numeric dtypes when passed object-dtype sequences (matching Series behavior)\n",
      "  heatmap_data = results.pivot(index='param_max_iter', columns=['param_solver', 'param_penalty'], values='mean_test_score')\n"
     ]
    },
    {
     "data": {
      "image/png": "[encoded data removed]",
      "text/plain": [
       "<Figure size 3200x4000 with 2 Axes>"
      ]
     },
     "metadata": {},
     "output_type": "display_data"
    },
    {
     "data": {
      "text/plain": [
       "'Best Parameters:'"
      ]
     },
     "metadata": {},
     "output_type": "display_data"
    },
    {
     "data": {
      "text/plain": [
       "{'max_iter': 150, 'penalty': None, 'solver': 'newton-cg'}"
      ]
     },
     "metadata": {},
     "output_type": "display_data"
    }
   ],
   "source": [
    "\n",
    "colsToDrop=['Year','Pressure','Weather','Day','Hour','WindSpeed','Month']\n",
    "\n",
    "# Create a Logistic Regression model\n",
    "model = LogisticRegression(random_state=RANDOM_SEED, n_jobs=-1)  # You can specify the solver as needed\n",
    "\n",
    "# Define the parameter grid for GridSearchCV\n",
    "param_grid = {\n",
    "    'penalty': [None],\n",
    "    'solver': ['newton-cg'],\n",
    "    'max_iter':[150],\n",
    "} # Hyperparameter tunning\n",
    "\n",
    "warnings.simplefilter(\"ignore\")\n",
    "os.environ[\"PYTHONWARNINGS\"] = \"ignore\"\n",
    "# Perform Grid Search with Cross-Validation\n",
    "grid_search = GridSearchCV(estimator=model, param_grid=param_grid, cv=kgs, scoring='accuracy', verbose=0, n_jobs=-1)\n",
    "grid_search.fit(*getXyTrainScaler(colsToDrop))\n",
    "\n",
    "# Restore default warning settings \n",
    "warnings.simplefilter(\"default\")\n",
    "os.environ[\"PYTHONWARNINGS\"] = \"default\"\n",
    "\n",
    "# Store Grid Search results in a DataFrame\n",
    "results = pd.DataFrame(grid_search.cv_results_)\n",
    "\n",
    "# Plot a heatmap for each combination of hyperparameters\n",
    "plt.figure(figsize=(32, 40))\n",
    "heatmap_data = results.pivot(index='param_max_iter', columns=['param_solver', 'param_penalty'], values='mean_test_score')\n",
    "sns.heatmap(heatmap_data, annot=True, fmt=\".3f\", cmap=\"YlGnBu\", cbar=True)\n",
    "plt.title(\"Grid Search Mean accuracy\")\n",
    "plt.xlabel(\"solver & penalty\")\n",
    "plt.ylabel(\"Iters\")\n",
    "plt.show()\n",
    "\n",
    "# Get the best parameters found by GridSearchCV\n",
    "best_params = grid_search.best_params_\n",
    "\n",
    "# Display the best parameters\n",
    "display(\"Best Parameters:\", best_params)"
   ]
  },
  {
   "cell_type": "code",
   "execution_count": 37,
   "metadata": {
    "notebookRunGroups": {
     "groupValue": ""
    }
   },
   "outputs": [
    {
     "name": "stderr",
     "output_type": "stream",
     "text": [
      "/home/luismfp/.local/lib/python3.10/site-packages/pandas/core/dtypes/cast.py:1641: DeprecationWarning: np.find_common_type is deprecated.  Please use `np.result_type` or `np.promote_types`.\n",
      "See https://numpy.org/devdocs/release/1.25.0-notes.html and the docs for more information.  (Deprecated NumPy 1.25)\n",
      "  return np.find_common_type(types, [])\n",
      "/home/luismfp/.local/lib/python3.10/site-packages/pandas/core/dtypes/cast.py:1641: DeprecationWarning: np.find_common_type is deprecated.  Please use `np.result_type` or `np.promote_types`.\n",
      "See https://numpy.org/devdocs/release/1.25.0-notes.html and the docs for more information.  (Deprecated NumPy 1.25)\n",
      "  return np.find_common_type(types, [])\n",
      "/home/luismfp/.local/lib/python3.10/site-packages/pandas/core/dtypes/cast.py:1641: DeprecationWarning: np.find_common_type is deprecated.  Please use `np.result_type` or `np.promote_types`.\n",
      "See https://numpy.org/devdocs/release/1.25.0-notes.html and the docs for more information.  (Deprecated NumPy 1.25)\n",
      "  return np.find_common_type(types, [])\n"
     ]
    },
    {
     "ename": "NameError",
     "evalue": "name 'X_scaled' is not defined",
     "output_type": "error",
     "traceback": [
      "\u001b[0;31m---------------------------------------------------------------------------\u001b[0m",
      "\u001b[0;31mNameError\u001b[0m                                 Traceback (most recent call last)",
      "Cell \u001b[0;32mIn [37], line 1\u001b[0m\n\u001b[0;32m----> 1\u001b[0m testAndSubmit(grid_search,\u001b[39m'\u001b[39;49m\u001b[39mlogistical.csv\u001b[39;49m\u001b[39m'\u001b[39;49m,scaler\u001b[39m=\u001b[39;49m\u001b[39mTrue\u001b[39;49;00m)\n",
      "Cell \u001b[0;32mIn [36], line 97\u001b[0m, in \u001b[0;36mtestAndSubmit\u001b[0;34m(grid_search, file_name, scaler)\u001b[0m\n\u001b[1;32m     95\u001b[0m \u001b[39mif\u001b[39;00m scaler:\n\u001b[1;32m     96\u001b[0m     X,y \u001b[39m=\u001b[39m getXyTrainScaler(colsToDrop)\n\u001b[0;32m---> 97\u001b[0m     test \u001b[39m=\u001b[39m getTestScaler(colsToDrop)\n\u001b[1;32m     98\u001b[0m \u001b[39melse\u001b[39;00m:\n\u001b[1;32m     99\u001b[0m     X,y \u001b[39m=\u001b[39m getXyTrain(colsToDrop)\n",
      "Cell \u001b[0;32mIn [36], line 40\u001b[0m, in \u001b[0;36mgetTestScaler\u001b[0;34m(colsToDrop)\u001b[0m\n\u001b[1;32m     38\u001b[0m scaler \u001b[39m=\u001b[39m StandardScaler()\n\u001b[1;32m     39\u001b[0m X \u001b[39m=\u001b[39m df2023\u001b[39m.\u001b[39mdrop(columns\u001b[39m=\u001b[39mcolsToDrop)\n\u001b[0;32m---> 40\u001b[0m X_df \u001b[39m=\u001b[39m pd\u001b[39m.\u001b[39mDataFrame(X_scaled, columns\u001b[39m=\u001b[39mX\u001b[39m.\u001b[39mcolumns)\n\u001b[1;32m     41\u001b[0m \u001b[39mreturn\u001b[39;00m X_df\n",
      "\u001b[0;31mNameError\u001b[0m: name 'X_scaled' is not defined"
     ]
    }
   ],
   "source": [
    "testAndSubmit(grid_search,'logistical.csv',scaler=True)"
   ]
  },
  {
   "cell_type": "markdown",
   "metadata": {},
   "source": [
    "## Support Vector Machines"
   ]
  },
  {
   "cell_type": "code",
   "execution_count": null,
   "metadata": {},
   "outputs": [
    {
     "ename": "NameError",
     "evalue": "name 'svm' is not defined",
     "output_type": "error",
     "traceback": [
      "\u001b[0;31m---------------------------------------------------------------------------\u001b[0m",
      "\u001b[0;31mNameError\u001b[0m                                 Traceback (most recent call last)",
      "Cell \u001b[0;32mIn [2], line 5\u001b[0m\n\u001b[1;32m      1\u001b[0m \u001b[39m# Create a Logistic Regression model\u001b[39;00m\n\u001b[1;32m      2\u001b[0m colsToDrop \u001b[39m=\u001b[39m [\u001b[39m'\u001b[39m\u001b[39mYear\u001b[39m\u001b[39m'\u001b[39m, \u001b[39m'\u001b[39m\u001b[39mPressure\u001b[39m\u001b[39m'\u001b[39m, \u001b[39m'\u001b[39m\u001b[39mWeather\u001b[39m\u001b[39m'\u001b[39m, \u001b[39m'\u001b[39m\u001b[39mDay\u001b[39m\u001b[39m'\u001b[39m, \u001b[39m'\u001b[39m\u001b[39mHour\u001b[39m\u001b[39m'\u001b[39m, \u001b[39m'\u001b[39m\u001b[39mWindSpeed\u001b[39m\u001b[39m'\u001b[39m, \u001b[39m'\u001b[39m\u001b[39mMonth\u001b[39m\u001b[39m'\u001b[39m]\n\u001b[0;32m----> 5\u001b[0m model \u001b[39m=\u001b[39m svm\u001b[39m.\u001b[39mSVC(random_state\u001b[39m=\u001b[39m\u001b[39m25\u001b[39m,cache_size\u001b[39m=\u001b[39m\u001b[39m10000\u001b[39m)  \u001b[39m# You can specify the solver as needed\u001b[39;00m\n\u001b[1;32m      7\u001b[0m param_grid \u001b[39m=\u001b[39m {\n\u001b[1;32m      8\u001b[0m     \u001b[39m'\u001b[39m\u001b[39mC\u001b[39m\u001b[39m'\u001b[39m: [\u001b[39m0.1\u001b[39m, \u001b[39m1\u001b[39m, \u001b[39m10\u001b[39m],          \u001b[39m# Regularization parameter\u001b[39;00m\n\u001b[1;32m      9\u001b[0m     \u001b[39m'\u001b[39m\u001b[39mkernel\u001b[39m\u001b[39m'\u001b[39m: [\u001b[39m'\u001b[39m\u001b[39mlinear\u001b[39m\u001b[39m'\u001b[39m, \u001b[39m'\u001b[39m\u001b[39mrbf\u001b[39m\u001b[39m'\u001b[39m], \u001b[39m# Kernel type\u001b[39;00m\n\u001b[1;32m     10\u001b[0m     \u001b[39m'\u001b[39m\u001b[39mgamma\u001b[39m\u001b[39m'\u001b[39m: [\u001b[39m'\u001b[39m\u001b[39mscale\u001b[39m\u001b[39m'\u001b[39m, \u001b[39m'\u001b[39m\u001b[39mauto\u001b[39m\u001b[39m'\u001b[39m],  \u001b[39m# Kernel coefficient\u001b[39;00m\n\u001b[1;32m     11\u001b[0m }\n\u001b[1;32m     13\u001b[0m grid_search \u001b[39m=\u001b[39m GridSearchCV(estimator\u001b[39m=\u001b[39mmodel, param_grid\u001b[39m=\u001b[39mparam_grid, cv\u001b[39m=\u001b[39mkgs, scoring\u001b[39m=\u001b[39m\u001b[39m'\u001b[39m\u001b[39maccuracy\u001b[39m\u001b[39m'\u001b[39m, verbose\u001b[39m=\u001b[39m\u001b[39m0\u001b[39m, n_jobs\u001b[39m=\u001b[39m\u001b[39m-\u001b[39m\u001b[39m1\u001b[39m)\n",
      "\u001b[0;31mNameError\u001b[0m: name 'svm' is not defined"
     ]
    }
   ],
   "source": [
    "# Create a Logistic Regression model\n",
    "colsToDrop = ['Year', 'Pressure', 'Weather', 'Day', 'Hour', 'WindSpeed', 'Month']\n",
    "\n",
    "\n",
    "model = svm.SVC(random_state=25,cache_size=10000)  # You can specify the solver as needed\n",
    "\n",
    "param_grid = {\n",
    "    'C': [0.1, 1, 10],          # Regularization parameter\n",
    "    'kernel': ['linear', 'rbf'], # Kernel type\n",
    "    'gamma': ['scale', 'auto'],  # Kernel coefficient\n",
    "}\n",
    "\n",
    "grid_search = GridSearchCV(estimator=model, param_grid=param_grid, cv=kgs, scoring='accuracy', verbose=0, n_jobs=-1)\n",
    "grid_search.fit(*getXyTrain(colsToDrop))\n",
    "\n",
    "results = pd.DataFrame(grid_search.cv_results_)\n",
    "\n",
    "# Plot a heatmap for each combination of hyperparameters\n",
    "plt.figure(figsize=(12, 8))\n",
    "heatmap_data = results.pivot(index='param_C', columns=['param_kernel', 'param_gamma'], values='mean_test_score')\n",
    "sns.heatmap(heatmap_data, annot=True, fmt=\".3f\", cmap=\"YlGnBu\", cbar=True)\n",
    "plt.title(\"Grid Search Mean accuracy\")\n",
    "plt.xlabel(\"Kernel & Gamma\")\n",
    "plt.ylabel(\"C\")\n",
    "plt.show()\n",
    "\n",
    "best_params = grid_search.best_params_\n",
    "\n",
    "# Display the best parameters\n",
    "display(\"Best Parameters:\", best_params)"
   ]
  },
  {
   "cell_type": "code",
   "execution_count": null,
   "metadata": {},
   "outputs": [],
   "source": [
    "testAndSubmit(grid_search,'SVM.csv')"
   ]
  },
  {
   "cell_type": "markdown",
   "metadata": {},
   "source": [
    "## Stochastic Gradient Descent"
   ]
  },
  {
   "cell_type": "code",
   "execution_count": 35,
   "metadata": {},
   "outputs": [
    {
     "name": "stderr",
     "output_type": "stream",
     "text": [
      "/home/luismfp/miniconda3/envs/DAA1/lib/python3.10/site-packages/sklearn/metrics/_classification.py:1469: UndefinedMetricWarning: Precision is ill-defined and being set to 0.0 in labels with no predicted samples. Use `zero_division` parameter to control this behavior.\n",
      "  _warn_prf(average, modifier, msg_start, len(result))\n"
     ]
    },
    {
     "name": "stdout",
     "output_type": "stream",
     "text": [
      "Mean accuracy: 0.7795969181621725\n",
      "Mean f1: 0.7690298186516153\n",
      "Mean precision: 0.802875338799366\n"
     ]
    },
    {
     "name": "stderr",
     "output_type": "stream",
     "text": [
      "/home/luismfp/miniconda3/envs/DAA1/lib/python3.10/site-packages/sklearn/metrics/_classification.py:1469: UndefinedMetricWarning: Precision is ill-defined and being set to 0.0 in labels with no predicted samples. Use `zero_division` parameter to control this behavior.\n",
      "  _warn_prf(average, modifier, msg_start, len(result))\n"
     ]
    },
    {
     "data": {
      "image/png": "[encoded data removed]",
      "text/plain": [
       "<Figure size 640x480 with 1 Axes>"
      ]
     },
     "metadata": {},
     "output_type": "display_data"
    }
   ],
   "source": [
    "# Create a Logistic Regression model\n",
    "colsToDrop = ['Year', 'Pressure', 'Weather', 'Day', 'Hour', 'WindSpeed', 'Month']\n",
    "\n",
    "\n",
    "model = SGDClassifier(random_state=RANDOM_SEED)\n",
    "\n",
    "param_grid = {\n",
    "    'loss': ['hinge', 'log', 'modified_huber'],  # Loss function\n",
    "    'penalty': ['l1', 'l2', 'elasticnet'],        # Regularization type\n",
    "    'alpha': [0.0001, 0.001, 0.01],               # Regularization strength\n",
    "}\n",
    "\n",
    "grid_search = GridSearchCV(estimator=model, param_grid=param_grid, cv=kgs, scoring='accuracy', verbose=0, n_jobs=-1)\n",
    "grid_search.fit(*getXyTrain(colsToDrop))\n",
    "\n",
    "results = pd.DataFrame(grid_search.cv_results_)\n",
    "\n",
    "# Plot a heatmap for each combination of hyperparameters\n",
    "plt.figure(figsize=(12, 8))\n",
    "heatmap_data = results.pivot(index='param_C', columns=['param_kernel', 'param_gamma'], values='mean_test_score')\n",
    "sns.heatmap(heatmap_data, annot=True, fmt=\".3f\", cmap=\"YlGnBu\", cbar=True)\n",
    "plt.title(\"Grid Search Mean accuracy\")\n",
    "plt.xlabel(\"Penalty & Alpha\")\n",
    "plt.ylabel(\"Loss\")\n",
    "plt.show()\n",
    "\n",
    "best_params = grid_search.best_params_\n",
    "\n",
    "# Display the best parameters\n",
    "display(\"Best Parameters:\", best_params)"
   ]
  },
  {
   "cell_type": "code",
   "execution_count": null,
   "metadata": {},
   "outputs": [],
   "source": [
    "testAndSubmit(grid_search,'SGD.csv')"
   ]
  },
  {
   "cell_type": "markdown",
   "metadata": {},
   "source": [
    "## NearestNeighbors"
   ]
  },
  {
   "cell_type": "code",
   "execution_count": 36,
   "metadata": {},
   "outputs": [
    {
     "name": "stdout",
     "output_type": "stream",
     "text": [
      "Mean accuracy: 0.7594401888400415\n",
      "Mean f1: 0.7502592002709498\n",
      "Mean precision: 0.7456154386719953\n"
     ]
    },
    {
     "data": {
      "image/png": "[encoded data removed]",
      "text/plain": [
       "<Figure size 800x600 with 1 Axes>"
      ]
     },
     "metadata": {},
     "output_type": "display_data"
    }
   ],
   "source": [
    "colsToDrop = ['Year', 'Pressure', 'Weather', 'Day', 'Hour', 'WindSpeed', 'Month']\n",
    "\n",
    "# Create a KNeighborsClassifier model\n",
    "model = KNeighborsClassifier()\n",
    "\n",
    "# Define the parameter grid for GridSearchCV\n",
    "param_grid = {\n",
    "    'n_neighbors': [3, 5, 7],             # Number of neighbors to consider\n",
    "    'weights': ['uniform', 'distance'],   # Weight function used in prediction\n",
    "    'p': [1, 2],                          # Power parameter for the Minkowski metric\n",
    "}\n",
    "\n",
    "# Perform Grid Search with Cross-Validation\n",
    "grid_search = GridSearchCV(estimator=model, param_grid=param_grid, cv=kgs, scoring='accuracy', verbose=0, n_jobs=-1)\n",
    "grid_search.fit(*getXyTrain(colsToDrop))\n",
    "\n",
    "# Get the best parameters found by GridSearchCV\n",
    "best_params = grid_search.best_params_\n",
    "\n",
    "# Display the best parameters\n",
    "print(\"Best Parameters:\", best_params)"
   ]
  },
  {
   "cell_type": "code",
   "execution_count": null,
   "metadata": {},
   "outputs": [],
   "source": [
    "testAndSubmit(grid_search,'NearestNeighboar.csv')"
   ]
  },
  {
   "cell_type": "markdown",
   "metadata": {},
   "source": [
    "## Decision tree classifier"
   ]
  },
  {
   "cell_type": "code",
   "execution_count": 37,
   "metadata": {},
   "outputs": [
    {
     "name": "stdout",
     "output_type": "stream",
     "text": [
      "Mean accuracy: 0.852395281636394\n",
      "Mean f1: 0.852806186906715\n",
      "Mean precision: 0.8538354254154831\n"
     ]
    },
    {
     "data": {
      "image/png": "[encoded data removed]",
      "text/plain": [
       "<Figure size 800x600 with 1 Axes>"
      ]
     },
     "metadata": {},
     "output_type": "display_data"
    }
   ],
   "source": [
    "colsToDrop = ['Year', 'Pressure', 'Weather', 'Day', 'Hour', 'WindSpeed', 'Month']\n",
    "\n",
    "# Create a Decision Tree Classifier model\n",
    "model = DecisionTreeClassifier(random_state=RANDOM_SEED)\n",
    "\n",
    "# Define the parameter grid for GridSearchCV\n",
    "param_grid = {\n",
    "    'criterion': ['gini', 'entropy'],  # Split criterion\n",
    "    'max_depth': [None, 10, 20, 30],   # Maximum depth of the tree\n",
    "    'min_samples_split': [2, 5, 10],   # Minimum samples required to split an internal node\n",
    "    'min_samples_leaf': [1, 2, 4]      # Minimum samples required to be at a leaf node\n",
    "}\n",
    "\n",
    "# Perform Grid Search with Cross-Validation\n",
    "grid_search = GridSearchCV(estimator=model, param_grid=param_grid, cv=kgs, scoring='accuracy', verbose=0, n_jobs=-1)\n",
    "grid_search.fit(*getXyTrain(colsToDrop))\n",
    "\n",
    "# Store Grid Search results in a DataFrame\n",
    "results = pd.DataFrame(grid_search.cv_results_)\n",
    "\n",
    "# Plot a heatmap for each combination of hyperparameters\n",
    "plt.figure(figsize=(12, 8))\n",
    "heatmap_data = results.pivot(index='param_criterion', columns=['param_max_depth', 'param_min_samples_split', 'param_min_samples_leaf'], values='mean_test_score')\n",
    "sns.heatmap(heatmap_data, annot=True, fmt=\".3f\", cmap=\"YlGnBu\", cbar=True)\n",
    "plt.title(\"Grid Search Mean accuracy\")\n",
    "plt.xlabel(\"Max Depth, Min Samples Split, Min Samples Leaf\")\n",
    "plt.ylabel(\"Criterion\")\n",
    "plt.show()\n",
    "\n",
    "# Get the best parameters found by GridSearchCV\n",
    "best_params = grid_search.best_params_\n",
    "\n",
    "# Display the best parameters\n",
    "print(\"Best Parameters:\", best_params)"
   ]
  },
  {
   "cell_type": "code",
   "execution_count": null,
   "metadata": {},
   "outputs": [],
   "source": [
    "testAndSubmit(grid_search,'DecisionTree.csv')"
   ]
  },
  {
   "cell_type": "markdown",
   "metadata": {},
   "source": [
    "## Random Forest"
   ]
  },
  {
   "cell_type": "code",
   "execution_count": 38,
   "metadata": {},
   "outputs": [
    {
     "ename": "KeyboardInterrupt",
     "evalue": "",
     "output_type": "error",
     "traceback": [
      "\u001b[0;31m---------------------------------------------------------------------------\u001b[0m",
      "\u001b[0;31mKeyboardInterrupt\u001b[0m                         Traceback (most recent call last)",
      "Cell \u001b[0;32mIn [38], line 18\u001b[0m\n\u001b[1;32m     15\u001b[0m y_train, y_test \u001b[39m=\u001b[39m y\u001b[39m.\u001b[39miloc[train_index], y\u001b[39m.\u001b[39miloc[test_index]\n\u001b[1;32m     17\u001b[0m \u001b[39m# Fit the KNeighborsClassifier model to the training data\u001b[39;00m\n\u001b[0;32m---> 18\u001b[0m model\u001b[39m.\u001b[39;49mfit(X_train, y_train)\n\u001b[1;32m     20\u001b[0m \u001b[39m# Make predictions on the test data\u001b[39;00m\n\u001b[1;32m     21\u001b[0m y_pred \u001b[39m=\u001b[39m model\u001b[39m.\u001b[39mpredict(X_test)\n",
      "File \u001b[0;32m~/miniconda3/envs/DAA1/lib/python3.10/site-packages/sklearn/base.py:1151\u001b[0m, in \u001b[0;36m_fit_context.<locals>.decorator.<locals>.wrapper\u001b[0;34m(estimator, *args, **kwargs)\u001b[0m\n\u001b[1;32m   1144\u001b[0m     estimator\u001b[39m.\u001b[39m_validate_params()\n\u001b[1;32m   1146\u001b[0m \u001b[39mwith\u001b[39;00m config_context(\n\u001b[1;32m   1147\u001b[0m     skip_parameter_validation\u001b[39m=\u001b[39m(\n\u001b[1;32m   1148\u001b[0m         prefer_skip_nested_validation \u001b[39mor\u001b[39;00m global_skip_validation\n\u001b[1;32m   1149\u001b[0m     )\n\u001b[1;32m   1150\u001b[0m ):\n\u001b[0;32m-> 1151\u001b[0m     \u001b[39mreturn\u001b[39;00m fit_method(estimator, \u001b[39m*\u001b[39;49margs, \u001b[39m*\u001b[39;49m\u001b[39m*\u001b[39;49mkwargs)\n",
      "File \u001b[0;32m~/miniconda3/envs/DAA1/lib/python3.10/site-packages/sklearn/ensemble/_forest.py:456\u001b[0m, in \u001b[0;36mBaseForest.fit\u001b[0;34m(self, X, y, sample_weight)\u001b[0m\n\u001b[1;32m    445\u001b[0m trees \u001b[39m=\u001b[39m [\n\u001b[1;32m    446\u001b[0m     \u001b[39mself\u001b[39m\u001b[39m.\u001b[39m_make_estimator(append\u001b[39m=\u001b[39m\u001b[39mFalse\u001b[39;00m, random_state\u001b[39m=\u001b[39mrandom_state)\n\u001b[1;32m    447\u001b[0m     \u001b[39mfor\u001b[39;00m i \u001b[39min\u001b[39;00m \u001b[39mrange\u001b[39m(n_more_estimators)\n\u001b[1;32m    448\u001b[0m ]\n\u001b[1;32m    450\u001b[0m \u001b[39m# Parallel loop: we prefer the threading backend as the Cython code\u001b[39;00m\n\u001b[1;32m    451\u001b[0m \u001b[39m# for fitting the trees is internally releasing the Python GIL\u001b[39;00m\n\u001b[1;32m    452\u001b[0m \u001b[39m# making threading more efficient than multiprocessing in\u001b[39;00m\n\u001b[1;32m    453\u001b[0m \u001b[39m# that case. However, for joblib 0.12+ we respect any\u001b[39;00m\n\u001b[1;32m    454\u001b[0m \u001b[39m# parallel_backend contexts set at a higher level,\u001b[39;00m\n\u001b[1;32m    455\u001b[0m \u001b[39m# since correctness does not rely on using threads.\u001b[39;00m\n\u001b[0;32m--> 456\u001b[0m trees \u001b[39m=\u001b[39m Parallel(\n\u001b[1;32m    457\u001b[0m     n_jobs\u001b[39m=\u001b[39;49m\u001b[39mself\u001b[39;49m\u001b[39m.\u001b[39;49mn_jobs,\n\u001b[1;32m    458\u001b[0m     verbose\u001b[39m=\u001b[39;49m\u001b[39mself\u001b[39;49m\u001b[39m.\u001b[39;49mverbose,\n\u001b[1;32m    459\u001b[0m     prefer\u001b[39m=\u001b[39;49m\u001b[39m\"\u001b[39;49m\u001b[39mthreads\u001b[39;49m\u001b[39m\"\u001b[39;49m,\n\u001b[1;32m    460\u001b[0m )(\n\u001b[1;32m    461\u001b[0m     delayed(_parallel_build_trees)(\n\u001b[1;32m    462\u001b[0m         t,\n\u001b[1;32m    463\u001b[0m         \u001b[39mself\u001b[39;49m\u001b[39m.\u001b[39;49mbootstrap,\n\u001b[1;32m    464\u001b[0m         X,\n\u001b[1;32m    465\u001b[0m         y,\n\u001b[1;32m    466\u001b[0m         sample_weight,\n\u001b[1;32m    467\u001b[0m         i,\n\u001b[1;32m    468\u001b[0m         \u001b[39mlen\u001b[39;49m(trees),\n\u001b[1;32m    469\u001b[0m         verbose\u001b[39m=\u001b[39;49m\u001b[39mself\u001b[39;49m\u001b[39m.\u001b[39;49mverbose,\n\u001b[1;32m    470\u001b[0m         class_weight\u001b[39m=\u001b[39;49m\u001b[39mself\u001b[39;49m\u001b[39m.\u001b[39;49mclass_weight,\n\u001b[1;32m    471\u001b[0m         n_samples_bootstrap\u001b[39m=\u001b[39;49mn_samples_bootstrap,\n\u001b[1;32m    472\u001b[0m     )\n\u001b[1;32m    473\u001b[0m     \u001b[39mfor\u001b[39;49;00m i, t \u001b[39min\u001b[39;49;00m \u001b[39menumerate\u001b[39;49m(trees)\n\u001b[1;32m    474\u001b[0m )\n\u001b[1;32m    476\u001b[0m \u001b[39m# Collect newly grown trees\u001b[39;00m\n\u001b[1;32m    477\u001b[0m \u001b[39mself\u001b[39m\u001b[39m.\u001b[39mestimators_\u001b[39m.\u001b[39mextend(trees)\n",
      "File \u001b[0;32m~/miniconda3/envs/DAA1/lib/python3.10/site-packages/sklearn/utils/parallel.py:65\u001b[0m, in \u001b[0;36mParallel.__call__\u001b[0;34m(self, iterable)\u001b[0m\n\u001b[1;32m     60\u001b[0m config \u001b[39m=\u001b[39m get_config()\n\u001b[1;32m     61\u001b[0m iterable_with_config \u001b[39m=\u001b[39m (\n\u001b[1;32m     62\u001b[0m     (_with_config(delayed_func, config), args, kwargs)\n\u001b[1;32m     63\u001b[0m     \u001b[39mfor\u001b[39;00m delayed_func, args, kwargs \u001b[39min\u001b[39;00m iterable\n\u001b[1;32m     64\u001b[0m )\n\u001b[0;32m---> 65\u001b[0m \u001b[39mreturn\u001b[39;00m \u001b[39msuper\u001b[39;49m()\u001b[39m.\u001b[39;49m\u001b[39m__call__\u001b[39;49m(iterable_with_config)\n",
      "File \u001b[0;32m~/miniconda3/envs/DAA1/lib/python3.10/site-packages/joblib/parallel.py:1098\u001b[0m, in \u001b[0;36mParallel.__call__\u001b[0;34m(self, iterable)\u001b[0m\n\u001b[1;32m   1095\u001b[0m     \u001b[39mself\u001b[39m\u001b[39m.\u001b[39m_iterating \u001b[39m=\u001b[39m \u001b[39mFalse\u001b[39;00m\n\u001b[1;32m   1097\u001b[0m \u001b[39mwith\u001b[39;00m \u001b[39mself\u001b[39m\u001b[39m.\u001b[39m_backend\u001b[39m.\u001b[39mretrieval_context():\n\u001b[0;32m-> 1098\u001b[0m     \u001b[39mself\u001b[39;49m\u001b[39m.\u001b[39;49mretrieve()\n\u001b[1;32m   1099\u001b[0m \u001b[39m# Make sure that we get a last message telling us we are done\u001b[39;00m\n\u001b[1;32m   1100\u001b[0m elapsed_time \u001b[39m=\u001b[39m time\u001b[39m.\u001b[39mtime() \u001b[39m-\u001b[39m \u001b[39mself\u001b[39m\u001b[39m.\u001b[39m_start_time\n",
      "File \u001b[0;32m~/miniconda3/envs/DAA1/lib/python3.10/site-packages/joblib/parallel.py:975\u001b[0m, in \u001b[0;36mParallel.retrieve\u001b[0;34m(self)\u001b[0m\n\u001b[1;32m    973\u001b[0m \u001b[39mtry\u001b[39;00m:\n\u001b[1;32m    974\u001b[0m     \u001b[39mif\u001b[39;00m \u001b[39mgetattr\u001b[39m(\u001b[39mself\u001b[39m\u001b[39m.\u001b[39m_backend, \u001b[39m'\u001b[39m\u001b[39msupports_timeout\u001b[39m\u001b[39m'\u001b[39m, \u001b[39mFalse\u001b[39;00m):\n\u001b[0;32m--> 975\u001b[0m         \u001b[39mself\u001b[39m\u001b[39m.\u001b[39m_output\u001b[39m.\u001b[39mextend(job\u001b[39m.\u001b[39;49mget(timeout\u001b[39m=\u001b[39;49m\u001b[39mself\u001b[39;49m\u001b[39m.\u001b[39;49mtimeout))\n\u001b[1;32m    976\u001b[0m     \u001b[39melse\u001b[39;00m:\n\u001b[1;32m    977\u001b[0m         \u001b[39mself\u001b[39m\u001b[39m.\u001b[39m_output\u001b[39m.\u001b[39mextend(job\u001b[39m.\u001b[39mget())\n",
      "File \u001b[0;32m~/miniconda3/envs/DAA1/lib/python3.10/multiprocessing/pool.py:765\u001b[0m, in \u001b[0;36mApplyResult.get\u001b[0;34m(self, timeout)\u001b[0m\n\u001b[1;32m    764\u001b[0m \u001b[39mdef\u001b[39;00m \u001b[39mget\u001b[39m(\u001b[39mself\u001b[39m, timeout\u001b[39m=\u001b[39m\u001b[39mNone\u001b[39;00m):\n\u001b[0;32m--> 765\u001b[0m     \u001b[39mself\u001b[39;49m\u001b[39m.\u001b[39;49mwait(timeout)\n\u001b[1;32m    766\u001b[0m     \u001b[39mif\u001b[39;00m \u001b[39mnot\u001b[39;00m \u001b[39mself\u001b[39m\u001b[39m.\u001b[39mready():\n\u001b[1;32m    767\u001b[0m         \u001b[39mraise\u001b[39;00m \u001b[39mTimeoutError\u001b[39;00m\n",
      "File \u001b[0;32m~/miniconda3/envs/DAA1/lib/python3.10/multiprocessing/pool.py:762\u001b[0m, in \u001b[0;36mApplyResult.wait\u001b[0;34m(self, timeout)\u001b[0m\n\u001b[1;32m    761\u001b[0m \u001b[39mdef\u001b[39;00m \u001b[39mwait\u001b[39m(\u001b[39mself\u001b[39m, timeout\u001b[39m=\u001b[39m\u001b[39mNone\u001b[39;00m):\n\u001b[0;32m--> 762\u001b[0m     \u001b[39mself\u001b[39;49m\u001b[39m.\u001b[39;49m_event\u001b[39m.\u001b[39;49mwait(timeout)\n",
      "File \u001b[0;32m~/miniconda3/envs/DAA1/lib/python3.10/threading.py:600\u001b[0m, in \u001b[0;36mEvent.wait\u001b[0;34m(self, timeout)\u001b[0m\n\u001b[1;32m    598\u001b[0m signaled \u001b[39m=\u001b[39m \u001b[39mself\u001b[39m\u001b[39m.\u001b[39m_flag\n\u001b[1;32m    599\u001b[0m \u001b[39mif\u001b[39;00m \u001b[39mnot\u001b[39;00m signaled:\n\u001b[0;32m--> 600\u001b[0m     signaled \u001b[39m=\u001b[39m \u001b[39mself\u001b[39;49m\u001b[39m.\u001b[39;49m_cond\u001b[39m.\u001b[39;49mwait(timeout)\n\u001b[1;32m    601\u001b[0m \u001b[39mreturn\u001b[39;00m signaled\n",
      "File \u001b[0;32m~/miniconda3/envs/DAA1/lib/python3.10/threading.py:320\u001b[0m, in \u001b[0;36mCondition.wait\u001b[0;34m(self, timeout)\u001b[0m\n\u001b[1;32m    318\u001b[0m \u001b[39mtry\u001b[39;00m:    \u001b[39m# restore state no matter what (e.g., KeyboardInterrupt)\u001b[39;00m\n\u001b[1;32m    319\u001b[0m     \u001b[39mif\u001b[39;00m timeout \u001b[39mis\u001b[39;00m \u001b[39mNone\u001b[39;00m:\n\u001b[0;32m--> 320\u001b[0m         waiter\u001b[39m.\u001b[39;49macquire()\n\u001b[1;32m    321\u001b[0m         gotit \u001b[39m=\u001b[39m \u001b[39mTrue\u001b[39;00m\n\u001b[1;32m    322\u001b[0m     \u001b[39melse\u001b[39;00m:\n",
      "\u001b[0;31mKeyboardInterrupt\u001b[0m: "
     ]
    }
   ],
   "source": [
    "colsToDrop = ['Year', 'Pressure', 'Weather', 'Day', 'Hour', 'WindSpeed', 'Month']\n",
    "\n",
    "# Create a Random Forest Classifier model\n",
    "model = RandomForestClassifier(random_state=RANDOM_SEED)\n",
    "\n",
    "# Define the parameter grid for GridSearchCV\n",
    "param_grid = {\n",
    "    'n_estimators': [50, 100, 200],       # Number of trees in the forest\n",
    "    'criterion': ['gini', 'entropy'],    # Split criterion\n",
    "    'max_depth': [None, 10, 20, 30],      # Maximum depth of the trees\n",
    "    'min_samples_split': [2, 5, 10],      # Minimum samples required to split an internal node\n",
    "    'min_samples_leaf': [1, 2, 4]         # Minimum samples required to be at a leaf node\n",
    "}\n",
    "\n",
    "# Perform Grid Search with Cross-Validation\n",
    "grid_search = GridSearchCV(estimator=model, param_grid=param_grid, cv=kgs, scoring='accuracy', verbose=0, n_jobs=-1)\n",
    "grid_search.fit(*getXyTrain(colsToDrop))\n",
    "\n",
    "# Store Grid Search results in a DataFrame\n",
    "results = pd.DataFrame(grid_search.cv_results_)\n",
    "\n",
    "# Plot a heatmap for each combination of hyperparameters\n",
    "plt.figure(figsize=(12, 8))\n",
    "heatmap_data = results.pivot(index='param_criterion', columns=['param_n_estimators', 'param_max_depth', 'param_min_samples_split', 'param_min_samples_leaf'], values='mean_test_score')\n",
    "sns.heatmap(heatmap_data, annot=True, fmt=\".3f\", cmap=\"YlGnBu\", cbar=True)\n",
    "plt.title(\"Grid Search Mean accuracy\")\n",
    "plt.xlabel(\"Number of Estimators, Max Depth, Min Samples Split, Min Samples Leaf\")\n",
    "plt.ylabel(\"Criterion\")\n",
    "plt.show()\n",
    "\n",
    "# Get the best parameters found by GridSearchCV\n",
    "best_params = grid_search.best_params_\n",
    "\n",
    "# Display the best parameters\n",
    "print(\"Best Parameters:\", best_params)\n"
   ]
  },
  {
   "cell_type": "markdown",
   "metadata": {},
   "source": [
    "- 0.8802647650790982 100 estimators,2 min_samples_split,1 min_samples_leaf\n",
    "- 0.8810821213514854 500 estimators\n",
    "- 0.881263115036487 1000 estimators\n",
    "- 0.8817163410263891 3 min_samples_split\n",
    "- 0.8819891502692652 5000 estimators\n",
    "- 0.8820795646920553 4000 estimators"
   ]
  },
  {
   "cell_type": "code",
   "execution_count": null,
   "metadata": {},
   "outputs": [],
   "source": [
    "testAndSubmit(grid_search,'RandomForest.csv')"
   ]
  },
  {
   "cell_type": "markdown",
   "metadata": {},
   "source": [
    "## Extra trees"
   ]
  },
  {
   "cell_type": "code",
   "execution_count": null,
   "metadata": {},
   "outputs": [
    {
     "name": "stdout",
     "output_type": "stream",
     "text": [
      "Mean accuracy: 0.8802643529805441\n",
      "Mean f1: 0.8731811844346516\n",
      "Mean precision: 0.8746552053933389\n"
     ]
    },
    {
     "data": {
      "image/png": "[encoded data removed]",
      "text/plain": [
       "<Figure size 800x600 with 1 Axes>"
      ]
     },
     "metadata": {},
     "output_type": "display_data"
    }
   ],
   "source": [
    "colsToDrop = ['Year', 'Pressure', 'Weather', 'Day', 'Hour', 'WindSpeed', 'Month']\n",
    "\n",
    "# Create an ExtraTreesClassifier model\n",
    "model = ExtraTreesClassifier(random_state=RANDOM_SEED)\n",
    "\n",
    "# Define the parameter grid for GridSearchCV\n",
    "param_grid = {\n",
    "    'n_estimators': [50, 100, 200],       # Number of trees in the forest\n",
    "    'criterion': ['gini', 'entropy'],    # Split criterion\n",
    "    'max_depth': [None, 10, 20, 30],      # Maximum depth of the trees\n",
    "    'min_samples_split': [2, 5, 10],      # Minimum samples required to split an internal node\n",
    "    'min_samples_leaf': [1, 2, 4]         # Minimum samples required to be at a leaf node\n",
    "}\n",
    "\n",
    "# Perform Grid Search with Cross-Validation\n",
    "grid_search = GridSearchCV(estimator=model, param_grid=param_grid, cv=kgs, scoring='accuracy', verbose=0, n_jobs=-1)\n",
    "grid_search.fit(*getXyTrain(colsToDrop))\n",
    "\n",
    "# Get the best parameters found by GridSearchCV\n",
    "best_params = grid_search.best_params_\n",
    "\n",
    "# Display the best parameters\n",
    "print(\"Best Parameters:\", best_params)"
   ]
  },
  {
   "cell_type": "code",
   "execution_count": null,
   "metadata": {},
   "outputs": [],
   "source": [
    "testAndSubmit(grid_search,'ExtraTrees.csv')"
   ]
  },
  {
   "cell_type": "markdown",
   "metadata": {},
   "source": [
    "- 0.8798102203738228 3000 estimators 3 min samples gini index\n",
    "- 0.8799009644754563 2950 estimators\n",
    "- 0.8799917909968006 2900 estimators\n",
    "- 0.880082535098434 2910 estimators\n",
    "- 0.8799008820557453 4min samples\n",
    "- 0.8800826999378556 3000 samples\n",
    "- 0.8802643529805441 3100 samples"
   ]
  },
  {
   "cell_type": "markdown",
   "metadata": {},
   "source": [
    "### Bagging with Random Forest:"
   ]
  },
  {
   "cell_type": "code",
   "execution_count": null,
   "metadata": {},
   "outputs": [],
   "source": [
    "colsToDrop = ['Year', 'Pressure', 'Weather', 'Day', 'Hour', 'WindSpeed', 'Month']\n",
    "\n",
    "# Create a base Random Forest Classifier model\n",
    "base_model = RandomForestClassifier(random_state=RANDOM_SEED)\n",
    "\n",
    "# Create a Bagging Classifier with Random Forest as the base model\n",
    "bagging_model = BaggingClassifier(base_model, random_state=RANDOM_SEED)\n",
    "\n",
    "# Define the parameter grid for GridSearchCV\n",
    "param_grid = {\n",
    "    'n_estimators': [50, 100, 200],       # Number of trees in the forest\n",
    "    'max_depth': [None, 10, 20, 30],      # Maximum depth of the trees\n",
    "    'min_samples_split': [2, 5, 10],      # Minimum samples required to split an internal node\n",
    "    'min_samples_leaf': [1, 2, 4]         # Minimum samples required to be at a leaf node\n",
    "}\n",
    "\n",
    "# Perform Grid Search with Cross-Validation\n",
    "grid_search = GridSearchCV(estimator=bagging_model, param_grid=param_grid, cv=kgs, scoring='accuracy', verbose=0, n_jobs=-1)\n",
    "grid_search.fit(*getXyTrain(colsToDrop))\n",
    "\n",
    "# Get the best parameters found by GridSearchCV\n",
    "best_params = grid_search.best_params_\n",
    "\n",
    "# Display the best parameters\n",
    "print(\"Best Parameters:\", best_params)\n"
   ]
  },
  {
   "cell_type": "code",
   "execution_count": null,
   "metadata": {},
   "outputs": [],
   "source": [
    "testAndSubmit(grid_search,'Bagging.csv')"
   ]
  },
  {
   "cell_type": "markdown",
   "metadata": {},
   "source": [
    "### Boosting with AdaBoost:"
   ]
  },
  {
   "cell_type": "code",
   "execution_count": null,
   "metadata": {},
   "outputs": [],
   "source": [
    "colsToDrop = ['Year', 'Pressure', 'Weather', 'Day', 'Hour', 'WindSpeed', 'Month']\n",
    "\n",
    "# Create a base Decision Tree Classifier model\n",
    "base_model = DecisionTreeClassifier(random_state=RANDOM_SEED)\n",
    "\n",
    "# Create an AdaBoost Classifier with Decision Tree as the base model\n",
    "adaboost_model = AdaBoostClassifier(base_model, random_state=RANDOM_SEED)\n",
    "\n",
    "# Define the parameter grid for GridSearchCV\n",
    "param_grid = {\n",
    "    'n_estimators': [50, 100, 200],       # Number of weak learners (base models)\n",
    "    'learning_rate': [0.01, 0.1, 1.0]    # Weighting of weak learners\n",
    "}\n",
    "\n",
    "# Perform Grid Search with Cross-Validation\n",
    "grid_search = GridSearchCV(estimator=adaboost_model, param_grid=param_grid, cv=kgs, scoring='accuracy', verbose=0, n_jobs=-1)\n",
    "grid_search.fit(*getXyTrain(colsToDrop))\n",
    "\n",
    "# Get the best parameters found by GridSearchCV\n",
    "best_params = grid_search.best_params_\n",
    "\n",
    "# Display the best parameters\n",
    "print(\"Best Parameters:\", best_params)"
   ]
  },
  {
   "cell_type": "code",
   "execution_count": null,
   "metadata": {},
   "outputs": [],
   "source": [
    "testAndSubmit(grid_search,'AdaBoost.csv')"
   ]
  },
  {
   "cell_type": "markdown",
   "metadata": {},
   "source": [
    "### Extreme Gradient Boosting"
   ]
  },
  {
   "cell_type": "code",
   "execution_count": null,
   "metadata": {},
   "outputs": [],
   "source": [
    "colsToDrop = ['Year', 'Pressure', 'Weather', 'Day', 'Hour', 'WindSpeed', 'Month']\n",
    "\n",
    "# Create an XGBClassifier model\n",
    "model = XGBClassifier(random_state=RANDOM_SEED)\n",
    "\n",
    "# Define the parameter grid for GridSearchCV\n",
    "param_grid = {\n",
    "    'learning_rate': [0.01, 0.1, 0.2],   # Step size shrinkage\n",
    "    'n_estimators': [50, 100, 200],       # Number of boosting rounds\n",
    "    'max_depth': [3, 5, 7],               # Maximum depth of a tree\n",
    "    'subsample': [0.8, 1.0],              # Subsample ratio of the training instances\n",
    "    'colsample_bytree': [0.8, 1.0],       # Subsample ratio of columns when constructing each tree\n",
    "}\n",
    "\n",
    "# Perform Grid Search with Cross-Validation\n",
    "grid_search = GridSearchCV(estimator=model, param_grid=param_grid, cv=kgs, scoring='accuracy', verbose=0, n_jobs=-1)\n",
    "grid_search.fit(*getXyTrain(colsToDrop))\n",
    "\n",
    "# Get the best parameters found by GridSearchCV\n",
    "best_params = grid_search.best_params_\n",
    "\n",
    "# Display the best parameters\n",
    "print(\"Best Parameters:\", best_params)"
   ]
  },
  {
   "cell_type": "code",
   "execution_count": null,
   "metadata": {},
   "outputs": [],
   "source": [
    "testAndSubmit(grid_search,'EGB.csv')"
   ]
  },
  {
   "cell_type": "markdown",
   "metadata": {},
   "source": [
    "### Stacking"
   ]
  },
  {
   "cell_type": "code",
   "execution_count": null,
   "metadata": {},
   "outputs": [],
   "source": [
    "colsToDrop = ['Year', 'Pressure', 'Weather', 'Day', 'Hour', 'WindSpeed', 'Month']\n",
    "\n",
    "# Define base classifiers\n",
    "base_classifiers = [\n",
    "    ('random_forest', RandomForestClassifier(random_state=RANDOM_SEED)),\n",
    "    ('svm', SVC(random_state=RANDOM_SEED)),\n",
    "]\n",
    "\n",
    "# Create a StackingClassifier with a meta-classifier (Logistic Regression)\n",
    "model = StackingClassifier(\n",
    "    estimators=base_classifiers,\n",
    "    final_estimator=LogisticRegression(random_state=RANDOM_SEED),\n",
    ")\n",
    "\n",
    "# Define the parameter grid for GridSearchCV\n",
    "param_grid = {\n",
    "    'random_forest__n_estimators': [50, 100, 200],\n",
    "    'random_forest__max_depth': [None, 10, 20, 30],\n",
    "    'svm__C': [0.1, 1, 10],\n",
    "    'svm__kernel': ['linear', 'rbf'],\n",
    "    'final_estimator__C': [0.1, 1, 10],\n",
    "}\n",
    "\n",
    "# Perform Grid Search with Cross-Validation\n",
    "grid_search = GridSearchCV(estimator=model, param_grid=param_grid, cv=kgs, scoring='accuracy', verbose=0, n_jobs=-1)\n",
    "grid_search.fit(*getXyTrain(colsToDrop))\n",
    "\n",
    "# Get the best parameters found by GridSearchCV\n",
    "best_params = grid_search.best_params_\n",
    "\n",
    "# Display the best parameters\n",
    "print(\"Best Parameters:\", best_params)"
   ]
  },
  {
   "cell_type": "code",
   "execution_count": null,
   "metadata": {},
   "outputs": [],
   "source": [
    "testAndSubmit(grid_search,'Stacking.csv')"
   ]
  },
  {
   "cell_type": "markdown",
   "metadata": {},
   "source": [
    "### Voting"
   ]
  },
  {
   "cell_type": "code",
   "execution_count": null,
   "metadata": {},
   "outputs": [],
   "source": [
    "colsToDrop = ['Year', 'Pressure', 'Weather', 'Day', 'Hour', 'WindSpeed', 'Month']\n",
    "\n",
    "# Define individual classifiers\n",
    "classifier_rf = RandomForestClassifier(random_state=RANDOM_SEED)\n",
    "classifier_svm = SVC(random_state=RANDOM_SEED)\n",
    "classifier_lr = LogisticRegression(random_state=RANDOM_SEED)\n",
    "\n",
    "# Create a VotingClassifier\n",
    "model = VotingClassifier(\n",
    "    estimators=[\n",
    "        ('random_forest', classifier_rf),\n",
    "        ('svm', classifier_svm),\n",
    "        ('logistic_regression', classifier_lr),\n",
    "    ],\n",
    "    voting='hard',  # You can use 'soft' for weighted voting based on probabilities\n",
    ")\n",
    "\n",
    "# Define the parameter grid for GridSearchCV for each classifier\n",
    "param_grid = {\n",
    "    'random_forest__n_estimators': [50, 100, 200],\n",
    "    'random_forest__max_depth': [None, 10, 20, 30],\n",
    "    'svm__C': [0.1, 1, 10],\n",
    "    'svm__kernel': ['linear', 'rbf'],\n",
    "    'logistic_regression__C': [0.1, 1, 10],\n",
    "}\n",
    "\n",
    "# Perform Grid Search with Cross-Validation\n",
    "grid_search = GridSearchCV(estimator=model, param_grid=param_grid, cv=kgs, scoring='accuracy', verbose=0, n_jobs=-1)\n",
    "grid_search.fit(*getXyTrain(colsToDrop))\n",
    "\n",
    "# Get the best parameters found by GridSearchCV\n",
    "best_params = grid_search.best_params_\n",
    "\n",
    "# Display the best parameters\n",
    "print(\"Best Parameters:\", best_params)"
   ]
  },
  {
   "cell_type": "code",
   "execution_count": null,
   "metadata": {},
   "outputs": [],
   "source": [
    "testAndSubmit(grid_search,'Voting.csv')"
   ]
  }
 ],
 "metadata": {
  "kernelspec": {
   "display_name": "Python 3 (ipykernel)",
   "language": "python",
   "name": "python3"
  },
  "language_info": {
   "codemirror_mode": {
    "name": "ipython",
    "version": 3
   },
   "file_extension": ".py",
   "mimetype": "text/x-python",
   "name": "python",
   "nbconvert_exporter": "python",
   "pygments_lexer": "ipython3",
   "version": "3.10.0"
  },
  "vscode": {
   "interpreter": {
    "hash": "1f4053c680791bae8cec3ab562d2fbd721a4d85553b67a6c4f8e77e4ba43cc04"
   }
  }
 },
 "nbformat": 4,
 "nbformat_minor": 4
}
